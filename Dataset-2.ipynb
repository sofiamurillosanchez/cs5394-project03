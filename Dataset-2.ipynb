{
 "cells": [
  {
   "cell_type": "code",
   "execution_count": 1,
   "metadata": {},
   "outputs": [],
   "source": [
    "import numpy as np\n",
    "import pandas as pd\n",
    "import seaborn as sns\n",
    "import matplotlib.pyplot as plt\n",
    "from sklearn import preprocessing\n",
    "from sklearn.metrics import mean_squared_error\n",
    "from sklearn.metrics import mean_absolute_error\n",
    "from sklearn.compose import ColumnTransformer\n",
    "from sklearn.linear_model import LinearRegression\n",
    "from sklearn.preprocessing import OneHotEncoder, OrdinalEncoder\n",
    "from sklearn.preprocessing import StandardScaler\n",
    "from sklearn.model_selection import cross_val_score\n",
    "from sklearn.tree import DecisionTreeRegressor\n",
    "from sklearn.pipeline import Pipeline\n",
    "from sklearn.neighbors import KNeighborsRegressor\n",
    "from sklearn.model_selection import train_test_split\n",
    "\n",
    "# Suppress warnings\n",
    "import warnings\n",
    "warnings.filterwarnings('ignore')"
   ]
  },
  {
   "cell_type": "code",
   "execution_count": 2,
   "outputs": [],
   "source": [
    "# Generate Dataframe\n",
    "df = pd.read_csv(\"uber-fares-dataset/uber.csv\")"
   ],
   "metadata": {
    "collapsed": false,
    "pycharm": {
     "name": "#%%\n"
    }
   }
  },
  {
   "cell_type": "markdown",
   "metadata": {},
   "source": [
    "## Cleaning the Data\n",
    "\n",
    "Before we start formally cleaning the data, we made sure to take a look at the data we are working with as well as their data types and potential missing values.\n",
    "\n",
    "Right off the bat, we noted that some latitude and longitude values do not fall within the actual latitude and longitude ranges.\n",
    "For example, latitude values range between -90 and 90 whereas longitude values range between -180 and 180. Values like -3356.66630 for the longitude will skew the data, so we will need to handle their observational units accordingly."
   ]
  },
  {
   "cell_type": "code",
   "execution_count": 3,
   "metadata": {},
   "outputs": [
    {
     "data": {
      "text/plain": "   Unnamed: 0                            key  fare_amount  \\\n0    24238194    2015-05-07 19:52:06.0000003          7.5   \n1    27835199    2009-07-17 20:04:56.0000002          7.7   \n2    44984355   2009-08-24 21:45:00.00000061         12.9   \n3    25894730    2009-06-26 08:22:21.0000001          5.3   \n4    17610152  2014-08-28 17:47:00.000000188         16.0   \n\n           pickup_datetime  pickup_longitude  pickup_latitude  \\\n0  2015-05-07 19:52:06 UTC        -73.999817        40.738354   \n1  2009-07-17 20:04:56 UTC        -73.994355        40.728225   \n2  2009-08-24 21:45:00 UTC        -74.005043        40.740770   \n3  2009-06-26 08:22:21 UTC        -73.976124        40.790844   \n4  2014-08-28 17:47:00 UTC        -73.925023        40.744085   \n\n   dropoff_longitude  dropoff_latitude  passenger_count  \n0         -73.999512         40.723217                1  \n1         -73.994710         40.750325                1  \n2         -73.962565         40.772647                1  \n3         -73.965316         40.803349                3  \n4         -73.973082         40.761247                5  ",
      "text/html": "<div>\n<style scoped>\n    .dataframe tbody tr th:only-of-type {\n        vertical-align: middle;\n    }\n\n    .dataframe tbody tr th {\n        vertical-align: top;\n    }\n\n    .dataframe thead th {\n        text-align: right;\n    }\n</style>\n<table border=\"1\" class=\"dataframe\">\n  <thead>\n    <tr style=\"text-align: right;\">\n      <th></th>\n      <th>Unnamed: 0</th>\n      <th>key</th>\n      <th>fare_amount</th>\n      <th>pickup_datetime</th>\n      <th>pickup_longitude</th>\n      <th>pickup_latitude</th>\n      <th>dropoff_longitude</th>\n      <th>dropoff_latitude</th>\n      <th>passenger_count</th>\n    </tr>\n  </thead>\n  <tbody>\n    <tr>\n      <th>0</th>\n      <td>24238194</td>\n      <td>2015-05-07 19:52:06.0000003</td>\n      <td>7.5</td>\n      <td>2015-05-07 19:52:06 UTC</td>\n      <td>-73.999817</td>\n      <td>40.738354</td>\n      <td>-73.999512</td>\n      <td>40.723217</td>\n      <td>1</td>\n    </tr>\n    <tr>\n      <th>1</th>\n      <td>27835199</td>\n      <td>2009-07-17 20:04:56.0000002</td>\n      <td>7.7</td>\n      <td>2009-07-17 20:04:56 UTC</td>\n      <td>-73.994355</td>\n      <td>40.728225</td>\n      <td>-73.994710</td>\n      <td>40.750325</td>\n      <td>1</td>\n    </tr>\n    <tr>\n      <th>2</th>\n      <td>44984355</td>\n      <td>2009-08-24 21:45:00.00000061</td>\n      <td>12.9</td>\n      <td>2009-08-24 21:45:00 UTC</td>\n      <td>-74.005043</td>\n      <td>40.740770</td>\n      <td>-73.962565</td>\n      <td>40.772647</td>\n      <td>1</td>\n    </tr>\n    <tr>\n      <th>3</th>\n      <td>25894730</td>\n      <td>2009-06-26 08:22:21.0000001</td>\n      <td>5.3</td>\n      <td>2009-06-26 08:22:21 UTC</td>\n      <td>-73.976124</td>\n      <td>40.790844</td>\n      <td>-73.965316</td>\n      <td>40.803349</td>\n      <td>3</td>\n    </tr>\n    <tr>\n      <th>4</th>\n      <td>17610152</td>\n      <td>2014-08-28 17:47:00.000000188</td>\n      <td>16.0</td>\n      <td>2014-08-28 17:47:00 UTC</td>\n      <td>-73.925023</td>\n      <td>40.744085</td>\n      <td>-73.973082</td>\n      <td>40.761247</td>\n      <td>5</td>\n    </tr>\n  </tbody>\n</table>\n</div>"
     },
     "execution_count": 3,
     "metadata": {},
     "output_type": "execute_result"
    }
   ],
   "source": [
    "df.head()"
   ]
  },
  {
   "cell_type": "code",
   "execution_count": 4,
   "metadata": {},
   "outputs": [
    {
     "data": {
      "text/plain": "         Unnamed: 0    fare_amount  pickup_longitude  pickup_latitude  \\\ncount  2.000000e+05  200000.000000     200000.000000    200000.000000   \nmean   2.771250e+07      11.359955        -72.527638        39.935885   \nstd    1.601382e+07       9.901776         11.437787         7.720539   \nmin    1.000000e+00     -52.000000      -1340.648410       -74.015515   \n25%    1.382535e+07       6.000000        -73.992065        40.734796   \n50%    2.774550e+07       8.500000        -73.981823        40.752592   \n75%    4.155530e+07      12.500000        -73.967154        40.767158   \nmax    5.542357e+07     499.000000         57.418457      1644.421482   \n\n       dropoff_longitude  dropoff_latitude  passenger_count  \ncount      199999.000000     199999.000000    200000.000000  \nmean          -72.525292         39.923890         1.684535  \nstd            13.117408          6.794829         1.385997  \nmin         -3356.666300       -881.985513         0.000000  \n25%           -73.991407         40.733823         1.000000  \n50%           -73.980093         40.753042         1.000000  \n75%           -73.963658         40.768001         2.000000  \nmax          1153.572603        872.697628       208.000000  ",
      "text/html": "<div>\n<style scoped>\n    .dataframe tbody tr th:only-of-type {\n        vertical-align: middle;\n    }\n\n    .dataframe tbody tr th {\n        vertical-align: top;\n    }\n\n    .dataframe thead th {\n        text-align: right;\n    }\n</style>\n<table border=\"1\" class=\"dataframe\">\n  <thead>\n    <tr style=\"text-align: right;\">\n      <th></th>\n      <th>Unnamed: 0</th>\n      <th>fare_amount</th>\n      <th>pickup_longitude</th>\n      <th>pickup_latitude</th>\n      <th>dropoff_longitude</th>\n      <th>dropoff_latitude</th>\n      <th>passenger_count</th>\n    </tr>\n  </thead>\n  <tbody>\n    <tr>\n      <th>count</th>\n      <td>2.000000e+05</td>\n      <td>200000.000000</td>\n      <td>200000.000000</td>\n      <td>200000.000000</td>\n      <td>199999.000000</td>\n      <td>199999.000000</td>\n      <td>200000.000000</td>\n    </tr>\n    <tr>\n      <th>mean</th>\n      <td>2.771250e+07</td>\n      <td>11.359955</td>\n      <td>-72.527638</td>\n      <td>39.935885</td>\n      <td>-72.525292</td>\n      <td>39.923890</td>\n      <td>1.684535</td>\n    </tr>\n    <tr>\n      <th>std</th>\n      <td>1.601382e+07</td>\n      <td>9.901776</td>\n      <td>11.437787</td>\n      <td>7.720539</td>\n      <td>13.117408</td>\n      <td>6.794829</td>\n      <td>1.385997</td>\n    </tr>\n    <tr>\n      <th>min</th>\n      <td>1.000000e+00</td>\n      <td>-52.000000</td>\n      <td>-1340.648410</td>\n      <td>-74.015515</td>\n      <td>-3356.666300</td>\n      <td>-881.985513</td>\n      <td>0.000000</td>\n    </tr>\n    <tr>\n      <th>25%</th>\n      <td>1.382535e+07</td>\n      <td>6.000000</td>\n      <td>-73.992065</td>\n      <td>40.734796</td>\n      <td>-73.991407</td>\n      <td>40.733823</td>\n      <td>1.000000</td>\n    </tr>\n    <tr>\n      <th>50%</th>\n      <td>2.774550e+07</td>\n      <td>8.500000</td>\n      <td>-73.981823</td>\n      <td>40.752592</td>\n      <td>-73.980093</td>\n      <td>40.753042</td>\n      <td>1.000000</td>\n    </tr>\n    <tr>\n      <th>75%</th>\n      <td>4.155530e+07</td>\n      <td>12.500000</td>\n      <td>-73.967154</td>\n      <td>40.767158</td>\n      <td>-73.963658</td>\n      <td>40.768001</td>\n      <td>2.000000</td>\n    </tr>\n    <tr>\n      <th>max</th>\n      <td>5.542357e+07</td>\n      <td>499.000000</td>\n      <td>57.418457</td>\n      <td>1644.421482</td>\n      <td>1153.572603</td>\n      <td>872.697628</td>\n      <td>208.000000</td>\n    </tr>\n  </tbody>\n</table>\n</div>"
     },
     "execution_count": 4,
     "metadata": {},
     "output_type": "execute_result"
    }
   ],
   "source": [
    "df.describe()"
   ]
  },
  {
   "cell_type": "markdown",
   "metadata": {},
   "source": [
    "From the .info() function we found that the longitude and latitude values contain a null value. We will need to address that later during our data cleanup."
   ]
  },
  {
   "cell_type": "code",
   "execution_count": 5,
   "metadata": {},
   "outputs": [
    {
     "name": "stdout",
     "output_type": "stream",
     "text": [
      "<class 'pandas.core.frame.DataFrame'>\n",
      "RangeIndex: 200000 entries, 0 to 199999\n",
      "Data columns (total 9 columns):\n",
      " #   Column             Non-Null Count   Dtype  \n",
      "---  ------             --------------   -----  \n",
      " 0   Unnamed: 0         200000 non-null  int64  \n",
      " 1   key                200000 non-null  object \n",
      " 2   fare_amount        200000 non-null  float64\n",
      " 3   pickup_datetime    200000 non-null  object \n",
      " 4   pickup_longitude   200000 non-null  float64\n",
      " 5   pickup_latitude    200000 non-null  float64\n",
      " 6   dropoff_longitude  199999 non-null  float64\n",
      " 7   dropoff_latitude   199999 non-null  float64\n",
      " 8   passenger_count    200000 non-null  int64  \n",
      "dtypes: float64(5), int64(2), object(2)\n",
      "memory usage: 13.7+ MB\n"
     ]
    }
   ],
   "source": [
    "df.info()"
   ]
  },
  {
   "cell_type": "markdown",
   "metadata": {},
   "source": [
    "We decided to plot fare_amount vs passenger count to see if we could find any correlations for data evaluation, and we found that the passenger count contains an outlier, which we will also need to address during the data cleanup."
   ]
  },
  {
   "cell_type": "code",
   "execution_count": 6,
   "metadata": {},
   "outputs": [
    {
     "data": {
      "text/plain": "<AxesSubplot:xlabel='fare_amount', ylabel='passenger_count'>"
     },
     "execution_count": 6,
     "metadata": {},
     "output_type": "execute_result"
    },
    {
     "data": {
      "text/plain": "<Figure size 432x288 with 1 Axes>",
      "image/png": "[encoded data removed]"
     },
     "metadata": {
      "needs_background": "light"
     },
     "output_type": "display_data"
    }
   ],
   "source": [
    "df.plot(kind=\"scatter\", x=\"fare_amount\", y=\"passenger_count\")"
   ]
  },
  {
   "cell_type": "markdown",
   "metadata": {},
   "source": [
    "To combat the rather strange values in the latitude and longitude columns, we will need to remove any observational units that do not fall within the specified latitude and longitude range. \n",
    "\n",
    "Before doing so, we will first need to drop any null values from our dataset."
   ]
  },
  {
   "cell_type": "code",
   "execution_count": 7,
   "metadata": {},
   "outputs": [],
   "source": [
    "df = df.dropna()"
   ]
  },
  {
   "cell_type": "code",
   "execution_count": 8,
   "metadata": {},
   "outputs": [],
   "source": [
    "# Drop Pickup Latitude & Longitude Values Outside of Range\n",
    "df.drop(df.loc[df['pickup_latitude'] > 90].index, inplace=True)\n",
    "df.drop(df.loc[df['pickup_latitude'] < -90].index, inplace=True)\n",
    "\n",
    "df.drop(df.loc[df['pickup_longitude'] > 180].index, inplace=True)\n",
    "df.drop(df.loc[df['pickup_longitude'] < -180].index, inplace=True)\n"
   ]
  },
  {
   "cell_type": "code",
   "execution_count": 9,
   "metadata": {},
   "outputs": [],
   "source": [
    "# Drop Dropoff Latitude & Longitude Values Outside of Range\n",
    "df.drop(df.loc[df['dropoff_latitude'] > 90].index, inplace=True)\n",
    "df.drop(df.loc[df['dropoff_latitude'] < -90].index, inplace=True)\n",
    "\n",
    "df.drop(df.loc[df['dropoff_longitude'] > 180].index, inplace=True)\n",
    "df.drop(df.loc[df['dropoff_longitude'] < -180].index, inplace=True)\n"
   ]
  },
  {
   "cell_type": "code",
   "execution_count": 10,
   "metadata": {},
   "outputs": [],
   "source": [
    "# Drop the outlier in the passenger_count\n",
    "df.drop(df.loc[df['passenger_count'] > 200].index, inplace=True)\n",
    "df.drop(df.loc[df['passenger_count'] <= 0].index, inplace=True)"
   ]
  },
  {
   "cell_type": "markdown",
   "metadata": {},
   "source": [
    "Because a lot of Uber fares are related to the distance traveled and demand (but demand cannot be calculated in this context), we will calculate the distance traveled for each Uber ride and create a variable containing the distance traveled. Hopefully, from this calculation we can see an accurate reflection of the correlation between the variables."
   ]
  },
  {
   "cell_type": "code",
   "execution_count": 11,
   "metadata": {},
   "outputs": [
    {
     "data": {
      "text/plain": "0        -1.291535\n1        -1.291451\n2        -1.290890\n3        -1.290938\n4        -1.291074\n            ...   \n199995   -1.291308\n199996   -1.291660\n199997   -1.289082\n199998   -1.291251\n199999   -1.291291\nName: dropoff_longitude, Length: 199278, dtype: float64"
     },
     "execution_count": 11,
     "metadata": {},
     "output_type": "execute_result"
    }
   ],
   "source": [
    "# Convert the latitude and longitude values to radians for calculation purposes\n",
    "np.radians(df['pickup_latitude'])\n",
    "np.radians(df['pickup_longitude'])\n",
    "\n",
    "np.radians(df['dropoff_latitude'])\n",
    "np.radians(df['dropoff_longitude'])"
   ]
  },
  {
   "cell_type": "code",
   "execution_count": 12,
   "metadata": {},
   "outputs": [],
   "source": [
    "# Calculation Reference: https://www.geeksforgeeks.org/program-distance-two-points-earth/#:~:text=For%20this%20divide%20the%20values,is%20the%20radius%20of%20Earth. \n",
    "# Distance, d = 3963.0 * arccos[(sin(lat1) * sin(lat2)) + cos(lat1) * cos(lat2) * cos(long2 – long1)]\n",
    "\n",
    "df['distance_traveled'] = 3963.0 * np.arccos(((np.sin(df['pickup_latitude']) * np.sin(df['dropoff_latitude'])) + np.cos(df['pickup_latitude']) * np.cos(df['dropoff_latitude']) * np.cos(df['dropoff_longitude']-df['pickup_longitude'])))"
   ]
  },
  {
   "cell_type": "code",
   "execution_count": 13,
   "metadata": {},
   "outputs": [],
   "source": [
    "# Converting the date & time variable to an actual date & time Dtype\n",
    "df.pickup_datetime = pd.to_datetime(df.pickup_datetime)"
   ]
  },
  {
   "cell_type": "code",
   "execution_count": 14,
   "metadata": {},
   "outputs": [],
   "source": [
    "# Creating day and hour variables using pickup_datetime, will use to calculate effect of timing/date on fare\n",
    "\n",
    "df['day'] = df.pickup_datetime.dt.weekday\n",
    "df['hour'] = df.pickup_datetime.dt.hour"
   ]
  },
  {
   "cell_type": "code",
   "execution_count": 15,
   "metadata": {},
   "outputs": [],
   "source": [
    "# Drop any values = to infinity\n",
    "\n",
    "df.replace([np.inf, -np.inf], np.nan, inplace=True)\n",
    "df.dropna(inplace=True)"
   ]
  },
  {
   "cell_type": "markdown",
   "metadata": {},
   "source": [
    "From taking a look at .info() and .describe, we can see that there are no longer any null/inf values and all the latitude and longitude values fall within normal ranges. Now we can start with our preprocessing."
   ]
  },
  {
   "cell_type": "code",
   "execution_count": 16,
   "metadata": {},
   "outputs": [
    {
     "name": "stdout",
     "output_type": "stream",
     "text": [
      "<class 'pandas.core.frame.DataFrame'>\n",
      "Int64Index: 199165 entries, 0 to 199999\n",
      "Data columns (total 12 columns):\n",
      " #   Column             Non-Null Count   Dtype              \n",
      "---  ------             --------------   -----              \n",
      " 0   Unnamed: 0         199165 non-null  int64              \n",
      " 1   key                199165 non-null  object             \n",
      " 2   fare_amount        199165 non-null  float64            \n",
      " 3   pickup_datetime    199165 non-null  datetime64[ns, UTC]\n",
      " 4   pickup_longitude   199165 non-null  float64            \n",
      " 5   pickup_latitude    199165 non-null  float64            \n",
      " 6   dropoff_longitude  199165 non-null  float64            \n",
      " 7   dropoff_latitude   199165 non-null  float64            \n",
      " 8   passenger_count    199165 non-null  int64              \n",
      " 9   distance_traveled  199165 non-null  float64            \n",
      " 10  day                199165 non-null  int64              \n",
      " 11  hour               199165 non-null  int64              \n",
      "dtypes: datetime64[ns, UTC](1), float64(6), int64(4), object(1)\n",
      "memory usage: 19.8+ MB\n"
     ]
    }
   ],
   "source": [
    "df.info()"
   ]
  },
  {
   "cell_type": "code",
   "execution_count": 17,
   "metadata": {},
   "outputs": [
    {
     "data": {
      "text/plain": "         Unnamed: 0    fare_amount  pickup_longitude  pickup_latitude  \\\ncount  1.991650e+05  199165.000000     199165.000000    199165.000000   \nmean   2.771724e+07      11.367451        -72.503134        39.918590   \nstd    1.601431e+07       9.909977         10.445844         6.129783   \nmin    1.000000e+00     -52.000000        -93.824668       -74.015515   \n25%    1.382813e+07       6.000000        -73.992062        40.734798   \n50%    2.775737e+07       8.500000        -73.981826        40.752585   \n75%    4.156231e+07      12.500000        -73.967170        40.767155   \nmax    5.542357e+07     499.000000         40.808425        48.018760   \n\n       dropoff_longitude  dropoff_latitude  passenger_count  \\\ncount      199165.000000     199165.000000    199165.000000   \nmean          -72.512632         39.922496         1.689489   \nstd            10.409178          6.117640         1.305390   \nmin           -75.458979        -74.015750         1.000000   \n25%           -73.991407         40.733829         1.000000   \n50%           -73.980095         40.753042         1.000000   \n75%           -73.963670         40.767995         2.000000   \nmax            40.831932         45.031598         6.000000   \n\n       distance_traveled            day           hour  \ncount      199165.000000  199165.000000  199165.000000  \nmean          147.604705       3.049381      13.492742  \nstd           360.789741       1.946611       6.516453  \nmin             0.000000       0.000000       0.000000  \n25%            49.210683       1.000000       9.000000  \n50%            85.046336       3.000000      14.000000  \n75%           151.705649       5.000000      19.000000  \nmax         12056.697494       6.000000      23.000000  ",
      "text/html": "<div>\n<style scoped>\n    .dataframe tbody tr th:only-of-type {\n        vertical-align: middle;\n    }\n\n    .dataframe tbody tr th {\n        vertical-align: top;\n    }\n\n    .dataframe thead th {\n        text-align: right;\n    }\n</style>\n<table border=\"1\" class=\"dataframe\">\n  <thead>\n    <tr style=\"text-align: right;\">\n      <th></th>\n      <th>Unnamed: 0</th>\n      <th>fare_amount</th>\n      <th>pickup_longitude</th>\n      <th>pickup_latitude</th>\n      <th>dropoff_longitude</th>\n      <th>dropoff_latitude</th>\n      <th>passenger_count</th>\n      <th>distance_traveled</th>\n      <th>day</th>\n      <th>hour</th>\n    </tr>\n  </thead>\n  <tbody>\n    <tr>\n      <th>count</th>\n      <td>1.991650e+05</td>\n      <td>199165.000000</td>\n      <td>199165.000000</td>\n      <td>199165.000000</td>\n      <td>199165.000000</td>\n      <td>199165.000000</td>\n      <td>199165.000000</td>\n      <td>199165.000000</td>\n      <td>199165.000000</td>\n      <td>199165.000000</td>\n    </tr>\n    <tr>\n      <th>mean</th>\n      <td>2.771724e+07</td>\n      <td>11.367451</td>\n      <td>-72.503134</td>\n      <td>39.918590</td>\n      <td>-72.512632</td>\n      <td>39.922496</td>\n      <td>1.689489</td>\n      <td>147.604705</td>\n      <td>3.049381</td>\n      <td>13.492742</td>\n    </tr>\n    <tr>\n      <th>std</th>\n      <td>1.601431e+07</td>\n      <td>9.909977</td>\n      <td>10.445844</td>\n      <td>6.129783</td>\n      <td>10.409178</td>\n      <td>6.117640</td>\n      <td>1.305390</td>\n      <td>360.789741</td>\n      <td>1.946611</td>\n      <td>6.516453</td>\n    </tr>\n    <tr>\n      <th>min</th>\n      <td>1.000000e+00</td>\n      <td>-52.000000</td>\n      <td>-93.824668</td>\n      <td>-74.015515</td>\n      <td>-75.458979</td>\n      <td>-74.015750</td>\n      <td>1.000000</td>\n      <td>0.000000</td>\n      <td>0.000000</td>\n      <td>0.000000</td>\n    </tr>\n    <tr>\n      <th>25%</th>\n      <td>1.382813e+07</td>\n      <td>6.000000</td>\n      <td>-73.992062</td>\n      <td>40.734798</td>\n      <td>-73.991407</td>\n      <td>40.733829</td>\n      <td>1.000000</td>\n      <td>49.210683</td>\n      <td>1.000000</td>\n      <td>9.000000</td>\n    </tr>\n    <tr>\n      <th>50%</th>\n      <td>2.775737e+07</td>\n      <td>8.500000</td>\n      <td>-73.981826</td>\n      <td>40.752585</td>\n      <td>-73.980095</td>\n      <td>40.753042</td>\n      <td>1.000000</td>\n      <td>85.046336</td>\n      <td>3.000000</td>\n      <td>14.000000</td>\n    </tr>\n    <tr>\n      <th>75%</th>\n      <td>4.156231e+07</td>\n      <td>12.500000</td>\n      <td>-73.967170</td>\n      <td>40.767155</td>\n      <td>-73.963670</td>\n      <td>40.767995</td>\n      <td>2.000000</td>\n      <td>151.705649</td>\n      <td>5.000000</td>\n      <td>19.000000</td>\n    </tr>\n    <tr>\n      <th>max</th>\n      <td>5.542357e+07</td>\n      <td>499.000000</td>\n      <td>40.808425</td>\n      <td>48.018760</td>\n      <td>40.831932</td>\n      <td>45.031598</td>\n      <td>6.000000</td>\n      <td>12056.697494</td>\n      <td>6.000000</td>\n      <td>23.000000</td>\n    </tr>\n  </tbody>\n</table>\n</div>"
     },
     "execution_count": 17,
     "metadata": {},
     "output_type": "execute_result"
    }
   ],
   "source": [
    "df.describe()"
   ]
  },
  {
   "cell_type": "markdown",
   "metadata": {},
   "source": [
    "## Using OneHotEncoder & Scaling, Normalizing, and Standardizing Features using sklearn.preprocessing\n",
    "\n",
    "Before we jump into anything else, we decided on preprocessing the data in order to standardize the dataset. This will make the rest of the process run smoother because the data will \"change raw feature vectors into a representation that is more suitable for the downstream estimators.\" (Source: https://scikit-learn.org/stable/modules/preprocessing.html)"
   ]
  },
  {
   "cell_type": "code",
   "execution_count": 18,
   "metadata": {},
   "outputs": [
    {
     "name": "stdout",
     "output_type": "stream",
     "text": [
      "<class 'pandas.core.frame.DataFrame'>\n",
      "Int64Index: 198461 entries, 0 to 199999\n",
      "Data columns (total 5 columns):\n",
      " #   Column             Non-Null Count   Dtype  \n",
      "---  ------             --------------   -----  \n",
      " 0   fare_amount        198461 non-null  float64\n",
      " 1   passenger_count    198461 non-null  int64  \n",
      " 2   distance_traveled  198461 non-null  float64\n",
      " 3   day                198461 non-null  int64  \n",
      " 4   hour               198461 non-null  int64  \n",
      "dtypes: float64(2), int64(3)\n",
      "memory usage: 9.1 MB\n"
     ]
    }
   ],
   "source": [
    "# Drop the key, unname, pickup_datetime, long & lat variables (extracted the necessary information from these variables/their variable types interfere with the scaler)\n",
    "df_scale = df.drop({\"key\", 'pickup_datetime', 'Unnamed: 0', 'pickup_longitude', 'pickup_latitude', 'dropoff_longitude', 'dropoff_latitude'}, axis = 1)\n",
    "df_scale.drop_duplicates(inplace=True)\n",
    "df_scale.info()"
   ]
  },
  {
   "cell_type": "code",
   "execution_count": 19,
   "metadata": {},
   "outputs": [
    {
     "data": {
      "text/plain": "<198461x37 sparse matrix of type '<class 'numpy.float64'>'\n\twith 595383 stored elements in Compressed Sparse Row format>"
     },
     "execution_count": 19,
     "metadata": {},
     "output_type": "execute_result"
    }
   ],
   "source": [
    "# Referenced Textbook for OneHotEncoder \n",
    "cat_encoder = OneHotEncoder()\n",
    "df_cat_1hot = cat_encoder.fit_transform(df_scale[{'passenger_count', 'day', 'hour'}])\n",
    "df_cat_1hot"
   ]
  },
  {
   "cell_type": "code",
   "execution_count": 20,
   "metadata": {},
   "outputs": [
    {
     "data": {
      "text/plain": "array([[0., 0., 0., ..., 0., 0., 0.],\n       [0., 0., 0., ..., 1., 0., 0.],\n       [0., 0., 0., ..., 0., 0., 0.],\n       ...,\n       [1., 0., 0., ..., 0., 0., 0.],\n       [0., 0., 0., ..., 0., 0., 0.],\n       [0., 0., 0., ..., 0., 1., 0.]])"
     },
     "execution_count": 20,
     "metadata": {},
     "output_type": "execute_result"
    }
   ],
   "source": [
    "df_cat_1hot.toarray()"
   ]
  },
  {
   "cell_type": "code",
   "execution_count": 21,
   "metadata": {},
   "outputs": [
    {
     "data": {
      "text/plain": "[array([ 0,  1,  2,  3,  4,  5,  6,  7,  8,  9, 10, 11, 12, 13, 14, 15, 16,\n        17, 18, 19, 20, 21, 22, 23]),\n array([1, 2, 3, 4, 5, 6]),\n array([0, 1, 2, 3, 4, 5, 6])]"
     },
     "execution_count": 21,
     "metadata": {},
     "output_type": "execute_result"
    }
   ],
   "source": [
    "cat_encoder.categories_"
   ]
  },
  {
   "cell_type": "markdown",
   "metadata": {},
   "source": [
    "Before running the scaler on the data, we will need to drop any categorical variables/any variables that are not in a number format because the scaler only works with number data."
   ]
  },
  {
   "cell_type": "markdown",
   "metadata": {},
   "source": [
    "Then, we will run the StandardScaler on the dataframe and check the mean and scale."
   ]
  },
  {
   "cell_type": "code",
   "execution_count": 22,
   "metadata": {},
   "outputs": [],
   "source": [
    "scaler = preprocessing.StandardScaler().fit(df_scale)"
   ]
  },
  {
   "cell_type": "code",
   "execution_count": 23,
   "metadata": {},
   "outputs": [
    {
     "data": {
      "text/plain": "array([ 11.38212334,   1.69151622, 148.12830242,   3.04979316,\n        13.49024242])"
     },
     "execution_count": 23,
     "metadata": {},
     "output_type": "execute_result"
    }
   ],
   "source": [
    "scaler.mean_"
   ]
  },
  {
   "cell_type": "code",
   "execution_count": 24,
   "metadata": {},
   "outputs": [
    {
     "data": {
      "text/plain": "array([  9.92021105,   1.30687509, 361.3208697 ,   1.94681392,\n         6.5184062 ])"
     },
     "execution_count": 24,
     "metadata": {},
     "output_type": "execute_result"
    }
   ],
   "source": [
    "scaler.scale_"
   ]
  },
  {
   "cell_type": "markdown",
   "metadata": {},
   "source": [
    "Next, we will transform the scaler and store it in a new dataframe and also check the mean and standard deviation."
   ]
  },
  {
   "cell_type": "code",
   "execution_count": 25,
   "metadata": {},
   "outputs": [
    {
     "data": {
      "text/plain": "array([1.48043908e-16, 4.50039161e-17, 4.85125746e-17, 4.07255008e-18,\n       1.29659254e-16])"
     },
     "execution_count": 25,
     "metadata": {},
     "output_type": "execute_result"
    }
   ],
   "source": [
    "df_scaled = scaler.transform(df_scale)\n",
    "df_scaled.mean(axis=0)"
   ]
  },
  {
   "cell_type": "code",
   "execution_count": 26,
   "metadata": {},
   "outputs": [
    {
     "data": {
      "text/plain": "array([1., 1., 1., 1., 1.])"
     },
     "execution_count": 26,
     "metadata": {},
     "output_type": "execute_result"
    }
   ],
   "source": [
    "df_scaled.std(axis=0)"
   ]
  },
  {
   "cell_type": "markdown",
   "metadata": {},
   "source": [
    "After scaling the data, we created a correlation matrix to see how the rest of the data relates to the fare amount. From looking at the correlation matrix, we found that none of the columns have a strong correlation to the fare amount."
   ]
  },
  {
   "cell_type": "code",
   "execution_count": 27,
   "metadata": {},
   "outputs": [],
   "source": [
    "corr_matrix = df_scale.corr()"
   ]
  },
  {
   "cell_type": "code",
   "execution_count": 28,
   "metadata": {},
   "outputs": [
    {
     "data": {
      "text/plain": "fare_amount          1.000000\ndistance_traveled    0.367400\npassenger_count      0.009279\nday                  0.007285\nhour                -0.021531\nName: fare_amount, dtype: float64"
     },
     "execution_count": 28,
     "metadata": {},
     "output_type": "execute_result"
    }
   ],
   "source": [
    "corr_matrix[\"fare_amount\"].sort_values(ascending=False)"
   ]
  },
  {
   "cell_type": "markdown",
   "metadata": {},
   "source": [
    "## Use sklearn.linear_model.LinearRegression & Use k-fold Cross Validation (cross_val_score)"
   ]
  },
  {
   "cell_type": "code",
   "execution_count": 29,
   "metadata": {},
   "outputs": [
    {
     "data": {
      "text/plain": "LinearRegression()"
     },
     "execution_count": 29,
     "metadata": {},
     "output_type": "execute_result"
    }
   ],
   "source": [
    "# Using Linear Regression\n",
    "\n",
    "lin_reg = LinearRegression()\n",
    "df_prepared = df_scale[{'distance_traveled', 'passenger_count', 'hour'}]\n",
    "df_label = df_scale['fare_amount']\n",
    "lin_reg.fit(df_prepared, df_label)"
   ]
  },
  {
   "cell_type": "code",
   "execution_count": 30,
   "metadata": {},
   "outputs": [
    {
     "name": "stdout",
     "output_type": "stream",
     "text": [
      "[0.13071501 0.14349203 0.14085825 0.14825432 0.1344076  0.13115354\n",
      " 0.12506605 0.11685031 0.12910944 0.14973383]\n"
     ]
    }
   ],
   "source": [
    "# Cross Validation Score\n",
    "print(cross_val_score(lin_reg, df_prepared, df_label, cv=10))"
   ]
  },
  {
   "cell_type": "code",
   "execution_count": 31,
   "metadata": {},
   "outputs": [
    {
     "name": "stdout",
     "output_type": "stream",
     "text": [
      "Predictions: [10.30407136 10.5559907  11.76358214 10.77815219 12.04353389]\n",
      "Labels: [7.5, 7.7, 12.9, 5.3, 16.0]\n"
     ]
    }
   ],
   "source": [
    "some_data = df_prepared.iloc[:5]\n",
    "some_labels = df_label.iloc[:5]\n",
    "\n",
    "print(\"Predictions:\", lin_reg.predict(some_data))\n",
    "print(\"Labels:\", list(some_labels))\n"
   ]
  },
  {
   "cell_type": "markdown",
   "metadata": {},
   "source": [
    "## Use sklearn.metrics.mean_squared_error and at least one other sklearn.metrics option to evaluate model performance \n",
    "\n",
    "The other metric we decided on was the Mean Absolute Error."
   ]
  },
  {
   "cell_type": "code",
   "execution_count": 32,
   "metadata": {},
   "outputs": [
    {
     "name": "stdout",
     "output_type": "stream",
     "text": [
      "Linear Regression RMSE:  9.224465392507582\n"
     ]
    }
   ],
   "source": [
    "df_predictions = lin_reg.predict(df_prepared)\n",
    "lin_mse = mean_squared_error(df_label, df_predictions)\n",
    "lin_rmse = np.sqrt(lin_mse)\n",
    "print(\"Linear Regression RMSE: \", lin_rmse)"
   ]
  },
  {
   "cell_type": "code",
   "execution_count": 33,
   "metadata": {},
   "outputs": [
    {
     "name": "stdout",
     "output_type": "stream",
     "text": [
      "Linear Regression MAE:  5.288341081176825\n"
     ]
    }
   ],
   "source": [
    "lin_mae = mean_absolute_error(df_label, df_predictions)\n",
    "print(\"Linear Regression MAE: \", lin_mae)"
   ]
  },
  {
   "cell_type": "code",
   "execution_count": 34,
   "metadata": {},
   "outputs": [],
   "source": [
    "def display_scores(scores):\n",
    "    print(\"Scores:\", scores)\n",
    "    print(\"Mean:\", scores.mean())\n",
    "    print(\"Standard deviation:\", scores.std())"
   ]
  },
  {
   "cell_type": "code",
   "execution_count": 35,
   "metadata": {},
   "outputs": [
    {
     "name": "stdout",
     "output_type": "stream",
     "text": [
      "Scores: [-91.49473315 -82.96006359 -87.76933854 -77.34559084 -83.16356006\n",
      " -82.38960929 -81.942271   -83.58689502 -91.63895434 -88.87074333]\n",
      "Mean: -85.1161759157182\n",
      "Standard deviation: 4.393844998241902\n"
     ]
    }
   ],
   "source": [
    "lin_scores = cross_val_score(lin_reg, df_prepared, df_label,\n",
    "                             scoring=\"neg_mean_squared_error\", cv=10)\n",
    "display_scores(lin_scores)"
   ]
  },
  {
   "cell_type": "markdown",
   "metadata": {},
   "source": [
    "## Use sklearn.tree.DecisionTreeRegressor"
   ]
  },
  {
   "cell_type": "code",
   "execution_count": 36,
   "metadata": {},
   "outputs": [],
   "source": [
    "tree_reg = DecisionTreeRegressor()\n",
    "tree_reg.fit(df_prepared, df_label)\n",
    "df_predictions = tree_reg.predict(df_prepared)"
   ]
  },
  {
   "cell_type": "code",
   "execution_count": 37,
   "metadata": {},
   "outputs": [
    {
     "name": "stdout",
     "output_type": "stream",
     "text": [
      "Decision Tree Regression RMSE:  2.2668958199289997\n"
     ]
    }
   ],
   "source": [
    "tree_mse = mean_squared_error(df_label, df_predictions)\n",
    "tree_rmse = np.sqrt(tree_mse)\n",
    "print(\"Decision Tree Regression RMSE: \", tree_rmse)"
   ]
  },
  {
   "cell_type": "code",
   "execution_count": 38,
   "metadata": {},
   "outputs": [
    {
     "name": "stdout",
     "output_type": "stream",
     "text": [
      "Decision Tree Regression MAE:  0.18509039685071452\n"
     ]
    }
   ],
   "source": [
    "# The other scikit metric = mean absolute error\n",
    "tree_mae = mean_absolute_error(df_label, df_predictions)\n",
    "print(\"Decision Tree Regression MAE: \", tree_mae)"
   ]
  },
  {
   "cell_type": "code",
   "execution_count": 39,
   "metadata": {},
   "outputs": [],
   "source": [
    "scores = cross_val_score(tree_reg, df_prepared, df_label,\n",
    "                         scoring=\"neg_mean_squared_error\", cv=10)\n",
    "tree_rmse_scores = np.sqrt(-scores)"
   ]
  },
  {
   "cell_type": "code",
   "execution_count": 40,
   "metadata": {},
   "outputs": [
    {
     "name": "stdout",
     "output_type": "stream",
     "text": [
      "Scores: [8.20042826 6.92705457 6.98283789 6.62235055 6.37500503 6.24477948\n",
      " 6.94378095 6.796408   7.20147958 7.09445489]\n",
      "Mean: 6.938857920862906\n",
      "Standard deviation: 0.510586126814283\n"
     ]
    }
   ],
   "source": [
    "display_scores(tree_rmse_scores)"
   ]
  },
  {
   "cell_type": "markdown",
   "source": [
    "## Use Ordinal Encoder and KNN regressor, Combine into Single Pipeline"
   ],
   "metadata": {
    "collapsed": false,
    "pycharm": {
     "name": "#%% md\n"
    }
   }
  },
  {
   "cell_type": "code",
   "execution_count": 41,
   "outputs": [
    {
     "data": {
      "text/plain": "array([ 7.14,  9.74, 12.  ,  7.76, 11.58, 12.28,  9.76, 10.24,  9.18,\n        6.54])"
     },
     "execution_count": 41,
     "metadata": {},
     "output_type": "execute_result"
    }
   ],
   "source": [
    "# Define rows\n",
    "numerical_attributes = ['pickup_longitude', 'pickup_latitude', 'dropoff_longitude', 'dropoff_latitude', 'distance_traveled']\n",
    "ordinal_attributes = ['passenger_count', 'hour']\n",
    "\n",
    "train_set, test_set = train_test_split(df, test_size=0.2, random_state=1)\n",
    "\n",
    "# Define transformer\n",
    "transform = ColumnTransformer([\n",
    "    (\"num\", StandardScaler(), numerical_attributes),\n",
    "    (\"cat\", OrdinalEncoder(), ordinal_attributes),\n",
    "])\n",
    "\n",
    "# Combine into pipeline\n",
    "pipeline = Pipeline([\n",
    "    ('transform', transform),\n",
    "    ('model', KNeighborsRegressor())\n",
    "])\n",
    "\n",
    "# Fit and predict\n",
    "pipeline.fit(train_set, y=train_set.fare_amount.values)\n",
    "prediction = pipeline.predict(test_set[numerical_attributes + ordinal_attributes])\n",
    "\n",
    "# Display first ten predictions and actual values\n",
    "prediction[:10]"
   ],
   "metadata": {
    "collapsed": false,
    "pycharm": {
     "name": "#%%\n"
    }
   }
  },
  {
   "cell_type": "code",
   "execution_count": 42,
   "outputs": [
    {
     "data": {
      "text/plain": "array([ 0.14,  2.04, -7.  ,  0.76, -0.12, -1.42,  1.26, -2.26,  2.68,\n        0.04])"
     },
     "execution_count": 42,
     "metadata": {},
     "output_type": "execute_result"
    }
   ],
   "source": [
    "# Compare to the actual first 10 fares\n",
    "\n",
    "prediction[:10] - test_set.fare_amount.head(10).values"
   ],
   "metadata": {
    "collapsed": false,
    "pycharm": {
     "name": "#%%\n"
    }
   }
  }
 ],
 "metadata": {
  "interpreter": {
   "hash": "a78ea90bb96be1c564a75352572a8915e5640a9dda8136aa122e85a8476ef6f9"
  },
  "kernelspec": {
   "display_name": "Python 3.9.7 ('base')",
   "language": "python",
   "name": "python3"
  },
  "language_info": {
   "codemirror_mode": {
    "name": "ipython",
    "version": 3
   },
   "file_extension": ".py",
   "mimetype": "text/x-python",
   "name": "python",
   "nbconvert_exporter": "python",
   "pygments_lexer": "ipython3",
   "version": "3.9.7"
  },
  "orig_nbformat": 4
 },
 "nbformat": 4,
 "nbformat_minor": 2
}