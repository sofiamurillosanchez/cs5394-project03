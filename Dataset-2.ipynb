{
 "cells": [
  {
   "cell_type": "code",
   "execution_count": null,
   "metadata": {},
   "outputs": [],
   "source": [
    "kaggle datasets download -d kashyapgohil/predicting-reddit-post-popularity-through-comments"
   ]
  }
 ],
 "metadata": {
  "interpreter": {
   "hash": "a78ea90bb96be1c564a75352572a8915e5640a9dda8136aa122e85a8476ef6f9"
  },
  "kernelspec": {
   "display_name": "Python 3.9.7 ('base')",
   "language": "python",
   "name": "python3"
  },
  "language_info": {
   "name": "python",
   "version": "3.9.7"
  },
  "orig_nbformat": 4
 },
 "nbformat": 4,
 "nbformat_minor": 2
}
