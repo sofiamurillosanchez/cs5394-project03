{
 "cells": [
  {
   "cell_type": "markdown",
   "metadata": {
    "pycharm": {
     "name": "#%% md\n"
    }
   },
   "source": [
    "# Project 3, Reddit Upvote Data\n",
    "\n",
    "This dataset contains testing and training sets for predicting the number of upvotes a post will receive on Reddit. The data includes factors such as the subreddit to which the post was submitted, post engagement in terms of the number of times the post was viewed or commented on, and the \"reputation\" of the post's author (which is a summative score of the performance of previous posts from a particular user.)"
   ]
  },
  {
   "cell_type": "markdown",
   "metadata": {},
   "source": [
    "## Precursory setup\n",
    "\n",
    "First, we'll import our tools and read our data."
   ]
  },
  {
   "cell_type": "code",
   "execution_count": 1,
   "metadata": {
    "pycharm": {
     "name": "#%%\n"
    }
   },
   "outputs": [],
   "source": [
    "# Import packages\n",
    "import pandas as pd\n",
    "from pandas.plotting import scatter_matrix\n",
    "import numpy as np\n",
    "import seaborn as sns\n",
    "from sklearn.preprocessing import OneHotEncoder, StandardScaler\n",
    "from sklearn.base import BaseEstimator, TransformerMixin\n",
    "from sklearn.linear_model import LinearRegression\n",
    "from sklearn.ensemble import RandomForestRegressor\n",
    "from sklearn.metrics import mean_squared_error, r2_score\n",
    "from sklearn.pipeline import Pipeline\n",
    "from sklearn.compose import ColumnTransformer\n",
    "from sklearn.model_selection import StratifiedKFold\n",
    "from statistics import mean\n",
    "\n",
    "# Suppress warnings\n",
    "import warnings\n",
    "warnings.filterwarnings('ignore')"
   ]
  },
  {
   "cell_type": "code",
   "execution_count": 2,
   "metadata": {
    "pycharm": {
     "name": "#%%\n"
    }
   },
   "outputs": [],
   "source": [
    "# Obtain datasets\n",
    "\n",
    "df_test = pd.read_csv('upvote-dataset/test.csv')\n",
    "df_train = pd.read_csv('upvote-dataset/train.csv')"
   ]
  },
  {
   "cell_type": "code",
   "execution_count": 3,
   "metadata": {
    "pycharm": {
     "name": "#%%\n"
    }
   },
   "outputs": [
    {
     "data": {
      "text/html": [
       "<div>\n",
       "<style scoped>\n",
       "    .dataframe tbody tr th:only-of-type {\n",
       "        vertical-align: middle;\n",
       "    }\n",
       "\n",
       "    .dataframe tbody tr th {\n",
       "        vertical-align: top;\n",
       "    }\n",
       "\n",
       "    .dataframe thead th {\n",
       "        text-align: right;\n",
       "    }\n",
       "</style>\n",
       "<table border=\"1\" class=\"dataframe\">\n",
       "  <thead>\n",
       "    <tr style=\"text-align: right;\">\n",
       "      <th></th>\n",
       "      <th>ID</th>\n",
       "      <th>Tag</th>\n",
       "      <th>Reputation</th>\n",
       "      <th>Answers</th>\n",
       "      <th>Username</th>\n",
       "      <th>Views</th>\n",
       "    </tr>\n",
       "  </thead>\n",
       "  <tbody>\n",
       "    <tr>\n",
       "      <th>0</th>\n",
       "      <td>366953</td>\n",
       "      <td>a</td>\n",
       "      <td>5645.0</td>\n",
       "      <td>3.0</td>\n",
       "      <td>50652</td>\n",
       "      <td>33200.0</td>\n",
       "    </tr>\n",
       "    <tr>\n",
       "      <th>1</th>\n",
       "      <td>71864</td>\n",
       "      <td>c</td>\n",
       "      <td>24511.0</td>\n",
       "      <td>6.0</td>\n",
       "      <td>37685</td>\n",
       "      <td>2730.0</td>\n",
       "    </tr>\n",
       "    <tr>\n",
       "      <th>2</th>\n",
       "      <td>141692</td>\n",
       "      <td>i</td>\n",
       "      <td>927.0</td>\n",
       "      <td>1.0</td>\n",
       "      <td>135293</td>\n",
       "      <td>21167.0</td>\n",
       "    </tr>\n",
       "    <tr>\n",
       "      <th>3</th>\n",
       "      <td>316833</td>\n",
       "      <td>i</td>\n",
       "      <td>21.0</td>\n",
       "      <td>6.0</td>\n",
       "      <td>166998</td>\n",
       "      <td>18528.0</td>\n",
       "    </tr>\n",
       "    <tr>\n",
       "      <th>4</th>\n",
       "      <td>440445</td>\n",
       "      <td>i</td>\n",
       "      <td>4475.0</td>\n",
       "      <td>10.0</td>\n",
       "      <td>53504</td>\n",
       "      <td>57240.0</td>\n",
       "    </tr>\n",
       "  </tbody>\n",
       "</table>\n",
       "</div>"
      ],
      "text/plain": [
       "       ID Tag  Reputation  Answers  Username    Views\n",
       "0  366953   a      5645.0      3.0     50652  33200.0\n",
       "1   71864   c     24511.0      6.0     37685   2730.0\n",
       "2  141692   i       927.0      1.0    135293  21167.0\n",
       "3  316833   i        21.0      6.0    166998  18528.0\n",
       "4  440445   i      4475.0     10.0     53504  57240.0"
      ]
     },
     "metadata": {},
     "output_type": "display_data"
    },
    {
     "data": {
      "text/html": [
       "<div>\n",
       "<style scoped>\n",
       "    .dataframe tbody tr th:only-of-type {\n",
       "        vertical-align: middle;\n",
       "    }\n",
       "\n",
       "    .dataframe tbody tr th {\n",
       "        vertical-align: top;\n",
       "    }\n",
       "\n",
       "    .dataframe thead th {\n",
       "        text-align: right;\n",
       "    }\n",
       "</style>\n",
       "<table border=\"1\" class=\"dataframe\">\n",
       "  <thead>\n",
       "    <tr style=\"text-align: right;\">\n",
       "      <th></th>\n",
       "      <th>ID</th>\n",
       "      <th>Tag</th>\n",
       "      <th>Reputation</th>\n",
       "      <th>Answers</th>\n",
       "      <th>Username</th>\n",
       "      <th>Views</th>\n",
       "      <th>Upvotes</th>\n",
       "    </tr>\n",
       "  </thead>\n",
       "  <tbody>\n",
       "    <tr>\n",
       "      <th>0</th>\n",
       "      <td>52664</td>\n",
       "      <td>a</td>\n",
       "      <td>3942.0</td>\n",
       "      <td>2.0</td>\n",
       "      <td>155623</td>\n",
       "      <td>7855.0</td>\n",
       "      <td>42.0</td>\n",
       "    </tr>\n",
       "    <tr>\n",
       "      <th>1</th>\n",
       "      <td>327662</td>\n",
       "      <td>a</td>\n",
       "      <td>26046.0</td>\n",
       "      <td>12.0</td>\n",
       "      <td>21781</td>\n",
       "      <td>55801.0</td>\n",
       "      <td>1175.0</td>\n",
       "    </tr>\n",
       "    <tr>\n",
       "      <th>2</th>\n",
       "      <td>468453</td>\n",
       "      <td>c</td>\n",
       "      <td>1358.0</td>\n",
       "      <td>4.0</td>\n",
       "      <td>56177</td>\n",
       "      <td>8067.0</td>\n",
       "      <td>60.0</td>\n",
       "    </tr>\n",
       "    <tr>\n",
       "      <th>3</th>\n",
       "      <td>96996</td>\n",
       "      <td>a</td>\n",
       "      <td>264.0</td>\n",
       "      <td>3.0</td>\n",
       "      <td>168793</td>\n",
       "      <td>27064.0</td>\n",
       "      <td>9.0</td>\n",
       "    </tr>\n",
       "    <tr>\n",
       "      <th>4</th>\n",
       "      <td>131465</td>\n",
       "      <td>c</td>\n",
       "      <td>4271.0</td>\n",
       "      <td>4.0</td>\n",
       "      <td>112223</td>\n",
       "      <td>13986.0</td>\n",
       "      <td>83.0</td>\n",
       "    </tr>\n",
       "  </tbody>\n",
       "</table>\n",
       "</div>"
      ],
      "text/plain": [
       "       ID Tag  Reputation  Answers  Username    Views  Upvotes\n",
       "0   52664   a      3942.0      2.0    155623   7855.0     42.0\n",
       "1  327662   a     26046.0     12.0     21781  55801.0   1175.0\n",
       "2  468453   c      1358.0      4.0     56177   8067.0     60.0\n",
       "3   96996   a       264.0      3.0    168793  27064.0      9.0\n",
       "4  131465   c      4271.0      4.0    112223  13986.0     83.0"
      ]
     },
     "metadata": {},
     "output_type": "display_data"
    }
   ],
   "source": [
    "# Check head\n",
    "\n",
    "display(df_test.head(), df_train.head())"
   ]
  },
  {
   "cell_type": "code",
   "execution_count": 4,
   "metadata": {
    "pycharm": {
     "name": "#%%\n"
    }
   },
   "outputs": [
    {
     "name": "stdout",
     "output_type": "stream",
     "text": [
      "<class 'pandas.core.frame.DataFrame'>\n",
      "RangeIndex: 330045 entries, 0 to 330044\n",
      "Data columns (total 7 columns):\n",
      " #   Column      Non-Null Count   Dtype  \n",
      "---  ------      --------------   -----  \n",
      " 0   ID          330045 non-null  int64  \n",
      " 1   Tag         330045 non-null  object \n",
      " 2   Reputation  330045 non-null  float64\n",
      " 3   Answers     330045 non-null  float64\n",
      " 4   Username    330045 non-null  int64  \n",
      " 5   Views       330045 non-null  float64\n",
      " 6   Upvotes     330045 non-null  float64\n",
      "dtypes: float64(4), int64(2), object(1)\n",
      "memory usage: 17.6+ MB\n"
     ]
    }
   ],
   "source": [
    "# View column data\n",
    "\n",
    "df_train.info()"
   ]
  },
  {
   "cell_type": "code",
   "execution_count": 5,
   "metadata": {
    "pycharm": {
     "name": "#%%\n"
    }
   },
   "outputs": [
    {
     "data": {
      "text/plain": [
       "ID            1\n",
       "Tag           1\n",
       "Reputation    1\n",
       "Answers       1\n",
       "Username      1\n",
       "Views         1\n",
       "Upvotes       1\n",
       "dtype: int64"
      ]
     },
     "execution_count": 5,
     "metadata": {},
     "output_type": "execute_result"
    }
   ],
   "source": [
    "# Verify that no null values exist\n",
    "\n",
    "df_train.isnull().nunique()"
   ]
  },
  {
   "cell_type": "markdown",
   "metadata": {
    "pycharm": {
     "name": "#%% md\n"
    }
   },
   "source": [
    "## Initial Exploration\n",
    "\n",
    "Now that our data is read and we've verified its completeness, we can do some basic exploration of our variables."
   ]
  },
  {
   "cell_type": "code",
   "execution_count": 6,
   "metadata": {
    "pycharm": {
     "name": "#%%\n"
    }
   },
   "outputs": [
    {
     "data": {
      "text/plain": [
       "a    31695\n",
       "c    72458\n",
       "h    20564\n",
       "i    32400\n",
       "j    72232\n",
       "o    14546\n",
       "p    43407\n",
       "r    12442\n",
       "s    23323\n",
       "x     6978\n",
       "Name: Tag, dtype: int64"
      ]
     },
     "execution_count": 6,
     "metadata": {},
     "output_type": "execute_result"
    },
    {
     "data": {
      "image/png": "[encoded data removed]",
      "text/plain": [
       "<Figure size 432x288 with 1 Axes>"
      ]
     },
     "metadata": {
      "needs_background": "light"
     },
     "output_type": "display_data"
    }
   ],
   "source": [
    "# View distribution of subreddits\n",
    "\n",
    "sns.histplot(df_train.Tag)\n",
    "df_train.Tag.value_counts().sort_index()"
   ]
  },
  {
   "cell_type": "code",
   "execution_count": 7,
   "metadata": {
    "pycharm": {
     "name": "#%%\n"
    }
   },
   "outputs": [
    {
     "data": {
      "text/html": [
       "<div>\n",
       "<style scoped>\n",
       "    .dataframe tbody tr th:only-of-type {\n",
       "        vertical-align: middle;\n",
       "    }\n",
       "\n",
       "    .dataframe tbody tr th {\n",
       "        vertical-align: top;\n",
       "    }\n",
       "\n",
       "    .dataframe thead th {\n",
       "        text-align: right;\n",
       "    }\n",
       "</style>\n",
       "<table border=\"1\" class=\"dataframe\">\n",
       "  <thead>\n",
       "    <tr style=\"text-align: right;\">\n",
       "      <th></th>\n",
       "      <th>ID</th>\n",
       "      <th>Reputation</th>\n",
       "      <th>Answers</th>\n",
       "      <th>Username</th>\n",
       "      <th>Views</th>\n",
       "      <th>Upvotes</th>\n",
       "    </tr>\n",
       "  </thead>\n",
       "  <tbody>\n",
       "    <tr>\n",
       "      <th>ID</th>\n",
       "      <td>1.000000</td>\n",
       "      <td>0.010606</td>\n",
       "      <td>0.021396</td>\n",
       "      <td>0.000714</td>\n",
       "      <td>0.031908</td>\n",
       "      <td>0.029755</td>\n",
       "    </tr>\n",
       "    <tr>\n",
       "      <th>Reputation</th>\n",
       "      <td>0.010606</td>\n",
       "      <td>1.000000</td>\n",
       "      <td>0.191548</td>\n",
       "      <td>-0.117998</td>\n",
       "      <td>0.182435</td>\n",
       "      <td>0.660989</td>\n",
       "    </tr>\n",
       "    <tr>\n",
       "      <th>Answers</th>\n",
       "      <td>0.021396</td>\n",
       "      <td>0.191548</td>\n",
       "      <td>1.000000</td>\n",
       "      <td>-0.010498</td>\n",
       "      <td>0.553030</td>\n",
       "      <td>0.445785</td>\n",
       "    </tr>\n",
       "    <tr>\n",
       "      <th>Username</th>\n",
       "      <td>0.000714</td>\n",
       "      <td>-0.117998</td>\n",
       "      <td>-0.010498</td>\n",
       "      <td>1.000000</td>\n",
       "      <td>0.003269</td>\n",
       "      <td>-0.060878</td>\n",
       "    </tr>\n",
       "    <tr>\n",
       "      <th>Views</th>\n",
       "      <td>0.031908</td>\n",
       "      <td>0.182435</td>\n",
       "      <td>0.553030</td>\n",
       "      <td>0.003269</td>\n",
       "      <td>1.000000</td>\n",
       "      <td>0.664766</td>\n",
       "    </tr>\n",
       "    <tr>\n",
       "      <th>Upvotes</th>\n",
       "      <td>0.029755</td>\n",
       "      <td>0.660989</td>\n",
       "      <td>0.445785</td>\n",
       "      <td>-0.060878</td>\n",
       "      <td>0.664766</td>\n",
       "      <td>1.000000</td>\n",
       "    </tr>\n",
       "  </tbody>\n",
       "</table>\n",
       "</div>"
      ],
      "text/plain": [
       "                  ID  Reputation   Answers  Username     Views   Upvotes\n",
       "ID          1.000000    0.010606  0.021396  0.000714  0.031908  0.029755\n",
       "Reputation  0.010606    1.000000  0.191548 -0.117998  0.182435  0.660989\n",
       "Answers     0.021396    0.191548  1.000000 -0.010498  0.553030  0.445785\n",
       "Username    0.000714   -0.117998 -0.010498  1.000000  0.003269 -0.060878\n",
       "Views       0.031908    0.182435  0.553030  0.003269  1.000000  0.664766\n",
       "Upvotes     0.029755    0.660989  0.445785 -0.060878  0.664766  1.000000"
      ]
     },
     "execution_count": 7,
     "metadata": {},
     "output_type": "execute_result"
    },
    {
     "data": {
      "image/png": "[encoded data removed]",
      "text/plain": [
       "<Figure size 432x288 with 2 Axes>"
      ]
     },
     "metadata": {
      "needs_background": "light"
     },
     "output_type": "display_data"
    }
   ],
   "source": [
    "# View correlation matrix\n",
    "\n",
    "sns.heatmap(df_train.corr(method='spearman'))\n",
    "df_train.corr(method='spearman')"
   ]
  },
  {
   "cell_type": "markdown",
   "metadata": {
    "pycharm": {
     "name": "#%% md\n"
    }
   },
   "source": [
    "We initially see fairly strong correlation between upvotes and a user's prior reputation, along with post engagement. However, because our subreddit variable is nominal, we'll need to explore any correlation differently."
   ]
  },
  {
   "cell_type": "code",
   "execution_count": 8,
   "metadata": {
    "pycharm": {
     "name": "#%%\n"
    }
   },
   "outputs": [
    {
     "data": {
      "text/html": [
       "<div>\n",
       "<style scoped>\n",
       "    .dataframe tbody tr th:only-of-type {\n",
       "        vertical-align: middle;\n",
       "    }\n",
       "\n",
       "    .dataframe tbody tr th {\n",
       "        vertical-align: top;\n",
       "    }\n",
       "\n",
       "    .dataframe thead th {\n",
       "        text-align: right;\n",
       "    }\n",
       "</style>\n",
       "<table border=\"1\" class=\"dataframe\">\n",
       "  <thead>\n",
       "    <tr style=\"text-align: right;\">\n",
       "      <th></th>\n",
       "      <th>Upvotes</th>\n",
       "      <th>a</th>\n",
       "      <th>c</th>\n",
       "      <th>h</th>\n",
       "      <th>i</th>\n",
       "      <th>j</th>\n",
       "      <th>o</th>\n",
       "      <th>p</th>\n",
       "      <th>r</th>\n",
       "      <th>s</th>\n",
       "      <th>x</th>\n",
       "    </tr>\n",
       "  </thead>\n",
       "  <tbody>\n",
       "    <tr>\n",
       "      <th>Upvotes</th>\n",
       "      <td>1.000000</td>\n",
       "      <td>0.040728</td>\n",
       "      <td>0.039207</td>\n",
       "      <td>-0.037511</td>\n",
       "      <td>-0.055080</td>\n",
       "      <td>0.110071</td>\n",
       "      <td>-0.055706</td>\n",
       "      <td>0.016155</td>\n",
       "      <td>-0.093296</td>\n",
       "      <td>-0.066782</td>\n",
       "      <td>-0.051624</td>\n",
       "    </tr>\n",
       "    <tr>\n",
       "      <th>a</th>\n",
       "      <td>0.040728</td>\n",
       "      <td>1.000000</td>\n",
       "      <td>-0.172868</td>\n",
       "      <td>-0.084017</td>\n",
       "      <td>-0.107536</td>\n",
       "      <td>-0.172522</td>\n",
       "      <td>-0.069985</td>\n",
       "      <td>-0.126837</td>\n",
       "      <td>-0.064511</td>\n",
       "      <td>-0.089878</td>\n",
       "      <td>-0.047902</td>\n",
       "    </tr>\n",
       "    <tr>\n",
       "      <th>c</th>\n",
       "      <td>0.039207</td>\n",
       "      <td>-0.172868</td>\n",
       "      <td>1.000000</td>\n",
       "      <td>-0.136716</td>\n",
       "      <td>-0.174986</td>\n",
       "      <td>-0.280733</td>\n",
       "      <td>-0.113882</td>\n",
       "      <td>-0.206393</td>\n",
       "      <td>-0.104975</td>\n",
       "      <td>-0.146252</td>\n",
       "      <td>-0.077947</td>\n",
       "    </tr>\n",
       "    <tr>\n",
       "      <th>h</th>\n",
       "      <td>-0.037511</td>\n",
       "      <td>-0.084017</td>\n",
       "      <td>-0.136716</td>\n",
       "      <td>1.000000</td>\n",
       "      <td>-0.085047</td>\n",
       "      <td>-0.136442</td>\n",
       "      <td>-0.055349</td>\n",
       "      <td>-0.100311</td>\n",
       "      <td>-0.051020</td>\n",
       "      <td>-0.071081</td>\n",
       "      <td>-0.037884</td>\n",
       "    </tr>\n",
       "    <tr>\n",
       "      <th>i</th>\n",
       "      <td>-0.055080</td>\n",
       "      <td>-0.107536</td>\n",
       "      <td>-0.174986</td>\n",
       "      <td>-0.085047</td>\n",
       "      <td>1.000000</td>\n",
       "      <td>-0.174637</td>\n",
       "      <td>-0.070843</td>\n",
       "      <td>-0.128391</td>\n",
       "      <td>-0.065302</td>\n",
       "      <td>-0.090979</td>\n",
       "      <td>-0.048489</td>\n",
       "    </tr>\n",
       "    <tr>\n",
       "      <th>j</th>\n",
       "      <td>0.110071</td>\n",
       "      <td>-0.172522</td>\n",
       "      <td>-0.280733</td>\n",
       "      <td>-0.136442</td>\n",
       "      <td>-0.174637</td>\n",
       "      <td>1.000000</td>\n",
       "      <td>-0.113654</td>\n",
       "      <td>-0.205980</td>\n",
       "      <td>-0.104765</td>\n",
       "      <td>-0.145959</td>\n",
       "      <td>-0.077791</td>\n",
       "    </tr>\n",
       "    <tr>\n",
       "      <th>o</th>\n",
       "      <td>-0.055706</td>\n",
       "      <td>-0.069985</td>\n",
       "      <td>-0.113882</td>\n",
       "      <td>-0.055349</td>\n",
       "      <td>-0.070843</td>\n",
       "      <td>-0.113654</td>\n",
       "      <td>1.000000</td>\n",
       "      <td>-0.083558</td>\n",
       "      <td>-0.042499</td>\n",
       "      <td>-0.059210</td>\n",
       "      <td>-0.031557</td>\n",
       "    </tr>\n",
       "    <tr>\n",
       "      <th>p</th>\n",
       "      <td>0.016155</td>\n",
       "      <td>-0.126837</td>\n",
       "      <td>-0.206393</td>\n",
       "      <td>-0.100311</td>\n",
       "      <td>-0.128391</td>\n",
       "      <td>-0.205980</td>\n",
       "      <td>-0.083558</td>\n",
       "      <td>1.000000</td>\n",
       "      <td>-0.077022</td>\n",
       "      <td>-0.107308</td>\n",
       "      <td>-0.057192</td>\n",
       "    </tr>\n",
       "    <tr>\n",
       "      <th>r</th>\n",
       "      <td>-0.093296</td>\n",
       "      <td>-0.064511</td>\n",
       "      <td>-0.104975</td>\n",
       "      <td>-0.051020</td>\n",
       "      <td>-0.065302</td>\n",
       "      <td>-0.104765</td>\n",
       "      <td>-0.042499</td>\n",
       "      <td>-0.077022</td>\n",
       "      <td>1.000000</td>\n",
       "      <td>-0.054579</td>\n",
       "      <td>-0.029089</td>\n",
       "    </tr>\n",
       "    <tr>\n",
       "      <th>s</th>\n",
       "      <td>-0.066782</td>\n",
       "      <td>-0.089878</td>\n",
       "      <td>-0.146252</td>\n",
       "      <td>-0.071081</td>\n",
       "      <td>-0.090979</td>\n",
       "      <td>-0.145959</td>\n",
       "      <td>-0.059210</td>\n",
       "      <td>-0.107308</td>\n",
       "      <td>-0.054579</td>\n",
       "      <td>1.000000</td>\n",
       "      <td>-0.040526</td>\n",
       "    </tr>\n",
       "    <tr>\n",
       "      <th>x</th>\n",
       "      <td>-0.051624</td>\n",
       "      <td>-0.047902</td>\n",
       "      <td>-0.077947</td>\n",
       "      <td>-0.037884</td>\n",
       "      <td>-0.048489</td>\n",
       "      <td>-0.077791</td>\n",
       "      <td>-0.031557</td>\n",
       "      <td>-0.057192</td>\n",
       "      <td>-0.029089</td>\n",
       "      <td>-0.040526</td>\n",
       "      <td>1.000000</td>\n",
       "    </tr>\n",
       "  </tbody>\n",
       "</table>\n",
       "</div>"
      ],
      "text/plain": [
       "          Upvotes         a         c         h         i         j         o  \\\n",
       "Upvotes  1.000000  0.040728  0.039207 -0.037511 -0.055080  0.110071 -0.055706   \n",
       "a        0.040728  1.000000 -0.172868 -0.084017 -0.107536 -0.172522 -0.069985   \n",
       "c        0.039207 -0.172868  1.000000 -0.136716 -0.174986 -0.280733 -0.113882   \n",
       "h       -0.037511 -0.084017 -0.136716  1.000000 -0.085047 -0.136442 -0.055349   \n",
       "i       -0.055080 -0.107536 -0.174986 -0.085047  1.000000 -0.174637 -0.070843   \n",
       "j        0.110071 -0.172522 -0.280733 -0.136442 -0.174637  1.000000 -0.113654   \n",
       "o       -0.055706 -0.069985 -0.113882 -0.055349 -0.070843 -0.113654  1.000000   \n",
       "p        0.016155 -0.126837 -0.206393 -0.100311 -0.128391 -0.205980 -0.083558   \n",
       "r       -0.093296 -0.064511 -0.104975 -0.051020 -0.065302 -0.104765 -0.042499   \n",
       "s       -0.066782 -0.089878 -0.146252 -0.071081 -0.090979 -0.145959 -0.059210   \n",
       "x       -0.051624 -0.047902 -0.077947 -0.037884 -0.048489 -0.077791 -0.031557   \n",
       "\n",
       "                p         r         s         x  \n",
       "Upvotes  0.016155 -0.093296 -0.066782 -0.051624  \n",
       "a       -0.126837 -0.064511 -0.089878 -0.047902  \n",
       "c       -0.206393 -0.104975 -0.146252 -0.077947  \n",
       "h       -0.100311 -0.051020 -0.071081 -0.037884  \n",
       "i       -0.128391 -0.065302 -0.090979 -0.048489  \n",
       "j       -0.205980 -0.104765 -0.145959 -0.077791  \n",
       "o       -0.083558 -0.042499 -0.059210 -0.031557  \n",
       "p        1.000000 -0.077022 -0.107308 -0.057192  \n",
       "r       -0.077022  1.000000 -0.054579 -0.029089  \n",
       "s       -0.107308 -0.054579  1.000000 -0.040526  \n",
       "x       -0.057192 -0.029089 -0.040526  1.000000  "
      ]
     },
     "execution_count": 8,
     "metadata": {},
     "output_type": "execute_result"
    }
   ],
   "source": [
    "subreddit_dummies = pd.get_dummies(df_train.Tag)\n",
    "df_train[['Upvotes']].join(subreddit_dummies).corr(method='spearman')"
   ]
  },
  {
   "cell_type": "markdown",
   "metadata": {
    "pycharm": {
     "name": "#%% md\n"
    }
   },
   "source": [
    "From the correlation table above, we do see slight differences in correlation between upvotes between subreddits, but nothing particularly large."
   ]
  },
  {
   "cell_type": "code",
   "execution_count": 9,
   "metadata": {
    "pycharm": {
     "name": "#%%\n"
    }
   },
   "outputs": [
    {
     "data": {
      "image/png": "[encoded data removed]",
      "text/plain": [
       "<Figure size 432x288 with 16 Axes>"
      ]
     },
     "metadata": {
      "needs_background": "light"
     },
     "output_type": "display_data"
    }
   ],
   "source": [
    "# View scatter matrix of correlated attributes\n",
    "\n",
    "scatter_matrix(df_train[['Upvotes', 'Reputation', 'Views', 'Answers']])\n",
    "pass"
   ]
  },
  {
   "cell_type": "markdown",
   "metadata": {
    "pycharm": {
     "name": "#%% md\n"
    }
   },
   "source": [
    "## One-Hot Encoding\n",
    "\n",
    "We can quantify the categorical subreddit variable using a one-hot encoder. Because this attribute isn't ordinal in any way, we wouldn't use an ordinal encoder for this exploration."
   ]
  },
  {
   "cell_type": "code",
   "execution_count": 10,
   "metadata": {
    "pycharm": {
     "name": "#%%\n"
    }
   },
   "outputs": [],
   "source": [
    "# Demonstrate one-hot encoding for subreddit attribute\n",
    "\n",
    "subreddit_encoder = OneHotEncoder()\n",
    "subreddit_ohe_train = subreddit_encoder.fit_transform(pd.DataFrame(df_train.Tag))\n",
    "subreddit_ohe_test = subreddit_encoder.fit_transform(pd.DataFrame(df_test.Tag))"
   ]
  },
  {
   "cell_type": "code",
   "execution_count": 11,
   "metadata": {
    "pycharm": {
     "name": "#%%\n"
    }
   },
   "outputs": [
    {
     "data": {
      "text/plain": [
       "array([[1., 0., 0., 0., 0., 0., 0., 0., 0., 0.],\n",
       "       [1., 0., 0., 0., 0., 0., 0., 0., 0., 0.],\n",
       "       [0., 1., 0., 0., 0., 0., 0., 0., 0., 0.],\n",
       "       [1., 0., 0., 0., 0., 0., 0., 0., 0., 0.],\n",
       "       [0., 1., 0., 0., 0., 0., 0., 0., 0., 0.]])"
      ]
     },
     "execution_count": 11,
     "metadata": {},
     "output_type": "execute_result"
    }
   ],
   "source": [
    "subreddit_ohe_train.toarray()[:5]"
   ]
  },
  {
   "cell_type": "markdown",
   "metadata": {
    "pycharm": {
     "name": "#%% md\n"
    }
   },
   "source": [
    "## Custom Transformer\n",
    "\n",
    "Next, we'll define some custom transformers to better quantify engagement. In our case, it's probably important to understand the \"conversion rate\" of upvotes and comments in terms of how many times a post is viewed. By understanding the engagement in terms of comments per view, we hope to better predict how this engagement translates to upvote rate."
   ]
  },
  {
   "cell_type": "code",
   "execution_count": 12,
   "metadata": {
    "pycharm": {
     "name": "#%%\n"
    }
   },
   "outputs": [],
   "source": [
    "# Define index constants\n",
    "reputation_index, comments_index, views_index = 2, 3, 5"
   ]
  },
  {
   "cell_type": "code",
   "execution_count": 13,
   "metadata": {
    "pycharm": {
     "name": "#%%\n"
    }
   },
   "outputs": [
    {
     "data": {
      "text/plain": [
       "array([[30964410.0, 0.0002546148949713558],\n",
       "       [1453392846.0, 0.00021504990949982976],\n",
       "       [10954986.0, 0.0004958472790380563],\n",
       "       [7144896.0, 0.00011084835944428023],\n",
       "       [59734206.0, 0.000286000286000286],\n",
       "       [2453880.0, 0.00017930787161556393],\n",
       "       [2526048.0, 5.819366852886406e-05],\n",
       "       [707928.0, 0.00641025641025641],\n",
       "       [5964918.0, 3.721761137370204e-05],\n",
       "       [624023.0, 0.004405286343612335]], dtype=object)"
      ]
     },
     "execution_count": 13,
     "metadata": {},
     "output_type": "execute_result"
    }
   ],
   "source": [
    "# Define transformer class\n",
    "class EngagementTransformer(BaseEstimator, TransformerMixin):\n",
    "    def __init__(self):\n",
    "        self.reputation_index, self.comments_index, self.views_index = reputation_index, comments_index, views_index\n",
    "        pass\n",
    "    def fit(self, *args, **kwargs):\n",
    "        return self\n",
    "    def transform(self, data):\n",
    "        # Convert to np array from pandas dataframe\n",
    "        if type(data) == pd.core.frame.DataFrame:\n",
    "            data = data.to_numpy()\n",
    "\n",
    "        # Redefine column indexes if necessary\n",
    "        if data.shape[1] == 3:\n",
    "            self.reputation_index, self.comments_index, self.views_index = 0, 1, 2\n",
    "\n",
    "        # Define user karma * post views engagement stat\n",
    "        karma_view_prod = data[:, self.reputation_index] * data[:, self.views_index]\n",
    "\n",
    "        # Define comments per view engagement stat\n",
    "        comments_per_view = data[:, self.comments_index] / data[:, self.views_index]\n",
    "\n",
    "        return np.c_[data, karma_view_prod, comments_per_view]\n",
    "\n",
    "# Transform datasets and obtain columns for new engagement attributes\n",
    "train_transformer = EngagementTransformer()\n",
    "train_engagement_cols = train_transformer.transform(df_train.values)[:, [7, 8]]\n",
    "\n",
    "test_transformer = EngagementTransformer()\n",
    "test_engagement_cols = test_transformer.transform(df_test.values)[:, [6, 7]]\n",
    "\n",
    "train_engagement_cols[:10]"
   ]
  },
  {
   "cell_type": "code",
   "execution_count": 14,
   "metadata": {
    "pycharm": {
     "name": "#%%\n"
    }
   },
   "outputs": [
    {
     "data": {
      "text/html": [
       "<div>\n",
       "<style scoped>\n",
       "    .dataframe tbody tr th:only-of-type {\n",
       "        vertical-align: middle;\n",
       "    }\n",
       "\n",
       "    .dataframe tbody tr th {\n",
       "        vertical-align: top;\n",
       "    }\n",
       "\n",
       "    .dataframe thead th {\n",
       "        text-align: right;\n",
       "    }\n",
       "</style>\n",
       "<table border=\"1\" class=\"dataframe\">\n",
       "  <thead>\n",
       "    <tr style=\"text-align: right;\">\n",
       "      <th></th>\n",
       "      <th>ID</th>\n",
       "      <th>Tag</th>\n",
       "      <th>Reputation</th>\n",
       "      <th>Answers</th>\n",
       "      <th>Username</th>\n",
       "      <th>Views</th>\n",
       "      <th>Upvotes</th>\n",
       "      <th>karma_view_prod</th>\n",
       "      <th>comments_per_view</th>\n",
       "    </tr>\n",
       "  </thead>\n",
       "  <tbody>\n",
       "    <tr>\n",
       "      <th>0</th>\n",
       "      <td>52664</td>\n",
       "      <td>a</td>\n",
       "      <td>3942.0</td>\n",
       "      <td>2.0</td>\n",
       "      <td>155623</td>\n",
       "      <td>7855.0</td>\n",
       "      <td>42.0</td>\n",
       "      <td>3.096441e+07</td>\n",
       "      <td>0.000255</td>\n",
       "    </tr>\n",
       "    <tr>\n",
       "      <th>1</th>\n",
       "      <td>327662</td>\n",
       "      <td>a</td>\n",
       "      <td>26046.0</td>\n",
       "      <td>12.0</td>\n",
       "      <td>21781</td>\n",
       "      <td>55801.0</td>\n",
       "      <td>1175.0</td>\n",
       "      <td>1.453393e+09</td>\n",
       "      <td>0.000215</td>\n",
       "    </tr>\n",
       "    <tr>\n",
       "      <th>2</th>\n",
       "      <td>468453</td>\n",
       "      <td>c</td>\n",
       "      <td>1358.0</td>\n",
       "      <td>4.0</td>\n",
       "      <td>56177</td>\n",
       "      <td>8067.0</td>\n",
       "      <td>60.0</td>\n",
       "      <td>1.095499e+07</td>\n",
       "      <td>0.000496</td>\n",
       "    </tr>\n",
       "    <tr>\n",
       "      <th>3</th>\n",
       "      <td>96996</td>\n",
       "      <td>a</td>\n",
       "      <td>264.0</td>\n",
       "      <td>3.0</td>\n",
       "      <td>168793</td>\n",
       "      <td>27064.0</td>\n",
       "      <td>9.0</td>\n",
       "      <td>7.144896e+06</td>\n",
       "      <td>0.000111</td>\n",
       "    </tr>\n",
       "    <tr>\n",
       "      <th>4</th>\n",
       "      <td>131465</td>\n",
       "      <td>c</td>\n",
       "      <td>4271.0</td>\n",
       "      <td>4.0</td>\n",
       "      <td>112223</td>\n",
       "      <td>13986.0</td>\n",
       "      <td>83.0</td>\n",
       "      <td>5.973421e+07</td>\n",
       "      <td>0.000286</td>\n",
       "    </tr>\n",
       "  </tbody>\n",
       "</table>\n",
       "</div>"
      ],
      "text/plain": [
       "       ID Tag  Reputation  Answers  Username    Views  Upvotes  \\\n",
       "0   52664   a      3942.0      2.0    155623   7855.0     42.0   \n",
       "1  327662   a     26046.0     12.0     21781  55801.0   1175.0   \n",
       "2  468453   c      1358.0      4.0     56177   8067.0     60.0   \n",
       "3   96996   a       264.0      3.0    168793  27064.0      9.0   \n",
       "4  131465   c      4271.0      4.0    112223  13986.0     83.0   \n",
       "\n",
       "   karma_view_prod  comments_per_view  \n",
       "0     3.096441e+07           0.000255  \n",
       "1     1.453393e+09           0.000215  \n",
       "2     1.095499e+07           0.000496  \n",
       "3     7.144896e+06           0.000111  \n",
       "4     5.973421e+07           0.000286  "
      ]
     },
     "execution_count": 14,
     "metadata": {},
     "output_type": "execute_result"
    }
   ],
   "source": [
    "# Define new transformed datasets\n",
    "df_train_trnsf = df_train.join(pd.Series(train_engagement_cols[:, 0], name='karma_view_prod').astype(float))\n",
    "df_test_trnsf = df_test.join(pd.Series(test_engagement_cols[:, 0], name='karma_view_prod').astype(float))\n",
    "\n",
    "df_train_trnsf = df_train_trnsf.join(pd.Series(train_engagement_cols[:, 1], name='comments_per_view').astype(float))\n",
    "df_test_trnsf = df_test_trnsf.join(pd.Series(test_engagement_cols[:, 1], name='comments_per_view').astype(float))\n",
    "\n",
    "df_train_trnsf.head()"
   ]
  },
  {
   "cell_type": "code",
   "execution_count": 15,
   "metadata": {
    "pycharm": {
     "name": "#%%\n"
    }
   },
   "outputs": [
    {
     "data": {
      "text/html": [
       "<div>\n",
       "<style scoped>\n",
       "    .dataframe tbody tr th:only-of-type {\n",
       "        vertical-align: middle;\n",
       "    }\n",
       "\n",
       "    .dataframe tbody tr th {\n",
       "        vertical-align: top;\n",
       "    }\n",
       "\n",
       "    .dataframe thead th {\n",
       "        text-align: right;\n",
       "    }\n",
       "</style>\n",
       "<table border=\"1\" class=\"dataframe\">\n",
       "  <thead>\n",
       "    <tr style=\"text-align: right;\">\n",
       "      <th></th>\n",
       "      <th>Upvotes</th>\n",
       "      <th>karma_view_prod</th>\n",
       "    </tr>\n",
       "  </thead>\n",
       "  <tbody>\n",
       "    <tr>\n",
       "      <th>Upvotes</th>\n",
       "      <td>1.000000</td>\n",
       "      <td>0.873497</td>\n",
       "    </tr>\n",
       "    <tr>\n",
       "      <th>karma_view_prod</th>\n",
       "      <td>0.873497</td>\n",
       "      <td>1.000000</td>\n",
       "    </tr>\n",
       "  </tbody>\n",
       "</table>\n",
       "</div>"
      ],
      "text/plain": [
       "                  Upvotes  karma_view_prod\n",
       "Upvotes          1.000000         0.873497\n",
       "karma_view_prod  0.873497         1.000000"
      ]
     },
     "execution_count": 15,
     "metadata": {},
     "output_type": "execute_result"
    },
    {
     "data": {
      "image/png": "[encoded data removed]",
      "text/plain": [
       "<Figure size 432x288 with 1 Axes>"
      ]
     },
     "metadata": {
      "needs_background": "light"
     },
     "output_type": "display_data"
    }
   ],
   "source": [
    "# Explore relationship between combined attribute and upvotes on the training set\n",
    "\n",
    "sns.scatterplot(x=df_train_trnsf.karma_view_prod, y=df_train_trnsf.Upvotes)\n",
    "df_train_trnsf[['Upvotes', 'karma_view_prod']].corr(method='spearman')"
   ]
  },
  {
   "cell_type": "markdown",
   "metadata": {
    "pycharm": {
     "name": "#%% md\n"
    }
   },
   "source": [
    "Great! With our transformed attribute measuring engagement and user reputation, we obtain a fairly improved correlation."
   ]
  },
  {
   "cell_type": "markdown",
   "metadata": {
    "pycharm": {
     "name": "#%% md\n"
    }
   },
   "source": [
    "## Numerical Scaling using `sklearn.preprocessing`\n",
    "\n",
    "Next, we'll scale our numerical attributes. This will allow our model to better interpret differences in values without the need to understand the magnitude of each variable."
   ]
  },
  {
   "cell_type": "code",
   "execution_count": 16,
   "metadata": {
    "pycharm": {
     "name": "#%%\n"
    }
   },
   "outputs": [
    {
     "data": {
      "text/html": [
       "<div>\n",
       "<style scoped>\n",
       "    .dataframe tbody tr th:only-of-type {\n",
       "        vertical-align: middle;\n",
       "    }\n",
       "\n",
       "    .dataframe tbody tr th {\n",
       "        vertical-align: top;\n",
       "    }\n",
       "\n",
       "    .dataframe thead th {\n",
       "        text-align: right;\n",
       "    }\n",
       "</style>\n",
       "<table border=\"1\" class=\"dataframe\">\n",
       "  <thead>\n",
       "    <tr style=\"text-align: right;\">\n",
       "      <th></th>\n",
       "      <th>Reputation</th>\n",
       "      <th>Answers</th>\n",
       "      <th>Views</th>\n",
       "      <th>karma_view_prod</th>\n",
       "      <th>comments_per_view</th>\n",
       "    </tr>\n",
       "  </thead>\n",
       "  <tbody>\n",
       "    <tr>\n",
       "      <th>0</th>\n",
       "      <td>-0.141573</td>\n",
       "      <td>-0.535736</td>\n",
       "      <td>-0.269158</td>\n",
       "      <td>-0.080277</td>\n",
       "      <td>-0.259441</td>\n",
       "    </tr>\n",
       "    <tr>\n",
       "      <th>1</th>\n",
       "      <td>0.675238</td>\n",
       "      <td>2.257943</td>\n",
       "      <td>0.323087</td>\n",
       "      <td>0.328507</td>\n",
       "      <td>-0.268042</td>\n",
       "    </tr>\n",
       "    <tr>\n",
       "      <th>2</th>\n",
       "      <td>-0.237059</td>\n",
       "      <td>0.023000</td>\n",
       "      <td>-0.266540</td>\n",
       "      <td>-0.086028</td>\n",
       "      <td>-0.206997</td>\n",
       "    </tr>\n",
       "    <tr>\n",
       "      <th>3</th>\n",
       "      <td>-0.277486</td>\n",
       "      <td>-0.256368</td>\n",
       "      <td>-0.031882</td>\n",
       "      <td>-0.087123</td>\n",
       "      <td>-0.290695</td>\n",
       "    </tr>\n",
       "    <tr>\n",
       "      <th>4</th>\n",
       "      <td>-0.129415</td>\n",
       "      <td>0.023000</td>\n",
       "      <td>-0.193426</td>\n",
       "      <td>-0.072009</td>\n",
       "      <td>-0.252617</td>\n",
       "    </tr>\n",
       "    <tr>\n",
       "      <th>5</th>\n",
       "      <td>-0.270982</td>\n",
       "      <td>-0.815104</td>\n",
       "      <td>-0.297297</td>\n",
       "      <td>-0.088471</td>\n",
       "      <td>-0.275812</td>\n",
       "    </tr>\n",
       "    <tr>\n",
       "      <th>6</th>\n",
       "      <td>-0.281809</td>\n",
       "      <td>-0.815104</td>\n",
       "      <td>-0.153923</td>\n",
       "      <td>-0.088450</td>\n",
       "      <td>-0.302142</td>\n",
       "    </tr>\n",
       "    <tr>\n",
       "      <th>7</th>\n",
       "      <td>-0.203395</td>\n",
       "      <td>-0.535736</td>\n",
       "      <td>-0.362332</td>\n",
       "      <td>-0.088973</td>\n",
       "      <td>1.078793</td>\n",
       "    </tr>\n",
       "    <tr>\n",
       "      <th>8</th>\n",
       "      <td>-0.283140</td>\n",
       "      <td>-0.535736</td>\n",
       "      <td>0.297604</td>\n",
       "      <td>-0.087462</td>\n",
       "      <td>-0.306703</td>\n",
       "    </tr>\n",
       "    <tr>\n",
       "      <th>9</th>\n",
       "      <td>-0.185658</td>\n",
       "      <td>-0.815104</td>\n",
       "      <td>-0.363382</td>\n",
       "      <td>-0.088997</td>\n",
       "      <td>0.642914</td>\n",
       "    </tr>\n",
       "  </tbody>\n",
       "</table>\n",
       "</div>"
      ],
      "text/plain": [
       "   Reputation   Answers     Views  karma_view_prod  comments_per_view\n",
       "0   -0.141573 -0.535736 -0.269158        -0.080277          -0.259441\n",
       "1    0.675238  2.257943  0.323087         0.328507          -0.268042\n",
       "2   -0.237059  0.023000 -0.266540        -0.086028          -0.206997\n",
       "3   -0.277486 -0.256368 -0.031882        -0.087123          -0.290695\n",
       "4   -0.129415  0.023000 -0.193426        -0.072009          -0.252617\n",
       "5   -0.270982 -0.815104 -0.297297        -0.088471          -0.275812\n",
       "6   -0.281809 -0.815104 -0.153923        -0.088450          -0.302142\n",
       "7   -0.203395 -0.535736 -0.362332        -0.088973           1.078793\n",
       "8   -0.283140 -0.535736  0.297604        -0.087462          -0.306703\n",
       "9   -0.185658 -0.815104 -0.363382        -0.088997           0.642914"
      ]
     },
     "execution_count": 16,
     "metadata": {},
     "output_type": "execute_result"
    }
   ],
   "source": [
    "# Define scaler instance and define scaled dataframes\n",
    "\n",
    "scaler = StandardScaler()\n",
    "col_names = ['Reputation', 'Answers', 'Views', 'karma_view_prod', 'comments_per_view']\n",
    "\n",
    "df_train_sc = pd.DataFrame(scaler.fit_transform(df_train_trnsf[col_names]))\n",
    "df_test_sc = pd.DataFrame(scaler.fit_transform(df_test_trnsf[col_names]))\n",
    "\n",
    "df_train_sc.columns = col_names\n",
    "df_test_sc.columns = col_names\n",
    "\n",
    "df_train_sc[:10]"
   ]
  },
  {
   "cell_type": "markdown",
   "metadata": {
    "pycharm": {
     "name": "#%% md\n"
    }
   },
   "source": [
    "## Combining Transformations into a Pipeline\n",
    "\n",
    "Now, we'll define a pipeline for our transformations thus far."
   ]
  },
  {
   "cell_type": "code",
   "execution_count": 17,
   "metadata": {
    "pycharm": {
     "name": "#%%\n"
    }
   },
   "outputs": [
    {
     "data": {
      "text/plain": [
       "array([[-0.14157253, -0.53573597, -0.26915833, -0.08027733, -0.25944057,\n",
       "         1.        ,  0.        ,  0.        ,  0.        ,  0.        ,\n",
       "         0.        ,  0.        ,  0.        ,  0.        ,  0.        ],\n",
       "       [ 0.67523751,  2.25794312,  0.32308687,  0.3285071 , -0.26804198,\n",
       "         1.        ,  0.        ,  0.        ,  0.        ,  0.        ,\n",
       "         0.        ,  0.        ,  0.        ,  0.        ,  0.        ],\n",
       "       [-0.23705919,  0.02299985, -0.26653963, -0.08602774, -0.20699675,\n",
       "         0.        ,  1.        ,  0.        ,  0.        ,  0.        ,\n",
       "         0.        ,  0.        ,  0.        ,  0.        ,  0.        ],\n",
       "       [-0.27748582, -0.25636806, -0.03188227, -0.0871227 , -0.29069536,\n",
       "         1.        ,  0.        ,  0.        ,  0.        ,  0.        ,\n",
       "         0.        ,  0.        ,  0.        ,  0.        ,  0.        ],\n",
       "       [-0.12941498,  0.02299985, -0.19342614, -0.07200933, -0.2526174 ,\n",
       "         0.        ,  1.        ,  0.        ,  0.        ,  0.        ,\n",
       "         0.        ,  0.        ,  0.        ,  0.        ,  0.        ]])"
      ]
     },
     "execution_count": 17,
     "metadata": {},
     "output_type": "execute_result"
    }
   ],
   "source": [
    "numeric_attributes = ['Reputation', 'Answers', 'Views']\n",
    "categorical_attributes = ['Tag']\n",
    "\n",
    "pipeline_numeric = Pipeline([\n",
    "    ('transformer', EngagementTransformer()),\n",
    "    ('std_scaler', StandardScaler())\n",
    "])\n",
    "\n",
    "full_transform = ColumnTransformer([\n",
    "    ('num', pipeline_numeric, numeric_attributes),\n",
    "    ('cat', OneHotEncoder(), categorical_attributes),\n",
    "])\n",
    "\n",
    "data_prepared = full_transform.fit_transform(df_train)\n",
    "data_prepared[:5]"
   ]
  },
  {
   "cell_type": "markdown",
   "metadata": {
    "pycharm": {
     "name": "#%% md\n"
    }
   },
   "source": [
    "## Simple Linear Regression\n",
    "\n",
    "For our first model, we'll see how a simple linear regression performs with our calculated engagement/reputation attribute."
   ]
  },
  {
   "cell_type": "code",
   "execution_count": 18,
   "metadata": {
    "pycharm": {
     "name": "#%%\n"
    }
   },
   "outputs": [],
   "source": [
    "linear_regression = LinearRegression()\n",
    "linear_regression.fit(data_prepared, df_train.Upvotes)\n",
    "pass"
   ]
  },
  {
   "cell_type": "markdown",
   "metadata": {
    "pycharm": {
     "name": "#%% md\n"
    }
   },
   "source": [
    "Next, we can explore how this model performs with some of our training data."
   ]
  },
  {
   "cell_type": "code",
   "execution_count": 19,
   "metadata": {
    "pycharm": {
     "name": "#%%\n"
    }
   },
   "outputs": [
    {
     "name": "stdout",
     "output_type": "stream",
     "text": [
      "Predicted: [  44.72236254 1479.33453144   13.28069274   40.19675814   71.81096598]\n",
      "Actual: [42.0, 1175.0, 60.0, 9.0, 83.0]\n"
     ]
    }
   ],
   "source": [
    "test_input = data_prepared[:5]\n",
    "exp_output = df_train.Upvotes.iloc[:5]\n",
    "\n",
    "print(\"Predicted:\", linear_regression.predict(test_input))\n",
    "print(\"Actual:\", list(exp_output))"
   ]
  },
  {
   "cell_type": "markdown",
   "metadata": {
    "pycharm": {
     "name": "#%% md\n"
    }
   },
   "source": [
    "## Using `sklearn.metrics`\n",
    "\n",
    "Our error seems fairly significant, so we can calculate our RMSE"
   ]
  },
  {
   "cell_type": "code",
   "execution_count": 20,
   "metadata": {
    "pycharm": {
     "name": "#%%\n"
    }
   },
   "outputs": [
    {
     "data": {
      "text/plain": [
       "1108.0326514522765"
      ]
     },
     "execution_count": 20,
     "metadata": {},
     "output_type": "execute_result"
    }
   ],
   "source": [
    "predictions = linear_regression.predict(data_prepared)\n",
    "lin_mse = mean_squared_error(df_train.Upvotes, predictions)\n",
    "lin_rmse = np.sqrt(lin_mse)\n",
    "lin_rmse"
   ]
  },
  {
   "cell_type": "markdown",
   "metadata": {
    "pycharm": {
     "name": "#%% md\n"
    }
   },
   "source": [
    "So, with our linear regression, we see an expected estimation error of over 1000 upvotes. Thus, we may reject to use this model for deployment. Let's also obrain the R^2 coefficient to score the accuracy of our regression."
   ]
  },
  {
   "cell_type": "code",
   "execution_count": 21,
   "metadata": {
    "pycharm": {
     "name": "#%%\n"
    }
   },
   "outputs": [
    {
     "data": {
      "text/plain": [
       "0.9048678939536314"
      ]
     },
     "execution_count": 21,
     "metadata": {},
     "output_type": "execute_result"
    }
   ],
   "source": [
    "r2_score(df_train.Upvotes.values, predictions)"
   ]
  },
  {
   "cell_type": "markdown",
   "metadata": {
    "pycharm": {
     "name": "#%% md\n"
    }
   },
   "source": [
    "## Random Forest Model\n",
    "\n",
    "Now, we'll move forward to a more powerful model for prediction. For this, we'll use a random forest regression model."
   ]
  },
  {
   "cell_type": "code",
   "execution_count": 22,
   "metadata": {
    "pycharm": {
     "name": "#%%\n"
    }
   },
   "outputs": [],
   "source": [
    "forest_reg = RandomForestRegressor()\n",
    "forest_reg.fit(data_prepared, df_train.Upvotes)\n",
    "pass"
   ]
  },
  {
   "cell_type": "code",
   "execution_count": 23,
   "metadata": {
    "pycharm": {
     "name": "#%%\n"
    }
   },
   "outputs": [
    {
     "data": {
      "text/plain": [
       "431.1695146856779"
      ]
     },
     "execution_count": 23,
     "metadata": {},
     "output_type": "execute_result"
    }
   ],
   "source": [
    "predictions = forest_reg.predict(data_prepared)\n",
    "forest_reg_mse = mean_squared_error(df_train.Upvotes, predictions)\n",
    "forest_reg_rmse = np.sqrt(forest_reg_mse)\n",
    "forest_reg_rmse"
   ]
  },
  {
   "cell_type": "markdown",
   "metadata": {
    "pycharm": {
     "name": "#%% md\n"
    }
   },
   "source": [
    "We see an improvement over our previous model with improved accuracy. Now, we can obtain our predictions for the test data."
   ]
  },
  {
   "cell_type": "code",
   "execution_count": 24,
   "metadata": {
    "pycharm": {
     "name": "#%%\n"
    }
   },
   "outputs": [],
   "source": [
    "test_data_prepared = full_transform.fit_transform(df_test)\n",
    "experimental_predictions = forest_reg.predict(test_data_prepared)"
   ]
  },
  {
   "cell_type": "code",
   "execution_count": 25,
   "metadata": {
    "pycharm": {
     "name": "#%%\n"
    }
   },
   "outputs": [
    {
     "data": {
      "text/html": [
       "<div>\n",
       "<style scoped>\n",
       "    .dataframe tbody tr th:only-of-type {\n",
       "        vertical-align: middle;\n",
       "    }\n",
       "\n",
       "    .dataframe tbody tr th {\n",
       "        vertical-align: top;\n",
       "    }\n",
       "\n",
       "    .dataframe thead th {\n",
       "        text-align: right;\n",
       "    }\n",
       "</style>\n",
       "<table border=\"1\" class=\"dataframe\">\n",
       "  <thead>\n",
       "    <tr style=\"text-align: right;\">\n",
       "      <th></th>\n",
       "      <th>ID</th>\n",
       "      <th>Tag</th>\n",
       "      <th>Reputation</th>\n",
       "      <th>Answers</th>\n",
       "      <th>Username</th>\n",
       "      <th>Views</th>\n",
       "      <th>Upvote Prediction</th>\n",
       "    </tr>\n",
       "  </thead>\n",
       "  <tbody>\n",
       "    <tr>\n",
       "      <th>0</th>\n",
       "      <td>366953</td>\n",
       "      <td>a</td>\n",
       "      <td>5645.0</td>\n",
       "      <td>3.0</td>\n",
       "      <td>50652</td>\n",
       "      <td>33200.0</td>\n",
       "      <td>247.0</td>\n",
       "    </tr>\n",
       "    <tr>\n",
       "      <th>1</th>\n",
       "      <td>71864</td>\n",
       "      <td>c</td>\n",
       "      <td>24511.0</td>\n",
       "      <td>6.0</td>\n",
       "      <td>37685</td>\n",
       "      <td>2730.0</td>\n",
       "      <td>78.0</td>\n",
       "    </tr>\n",
       "    <tr>\n",
       "      <th>2</th>\n",
       "      <td>141692</td>\n",
       "      <td>i</td>\n",
       "      <td>927.0</td>\n",
       "      <td>1.0</td>\n",
       "      <td>135293</td>\n",
       "      <td>21167.0</td>\n",
       "      <td>105.0</td>\n",
       "    </tr>\n",
       "    <tr>\n",
       "      <th>3</th>\n",
       "      <td>316833</td>\n",
       "      <td>i</td>\n",
       "      <td>21.0</td>\n",
       "      <td>6.0</td>\n",
       "      <td>166998</td>\n",
       "      <td>18528.0</td>\n",
       "      <td>192.0</td>\n",
       "    </tr>\n",
       "    <tr>\n",
       "      <th>4</th>\n",
       "      <td>440445</td>\n",
       "      <td>i</td>\n",
       "      <td>4475.0</td>\n",
       "      <td>10.0</td>\n",
       "      <td>53504</td>\n",
       "      <td>57240.0</td>\n",
       "      <td>283.0</td>\n",
       "    </tr>\n",
       "  </tbody>\n",
       "</table>\n",
       "</div>"
      ],
      "text/plain": [
       "       ID Tag  Reputation  Answers  Username    Views  Upvote Prediction\n",
       "0  366953   a      5645.0      3.0     50652  33200.0              247.0\n",
       "1   71864   c     24511.0      6.0     37685   2730.0               78.0\n",
       "2  141692   i       927.0      1.0    135293  21167.0              105.0\n",
       "3  316833   i        21.0      6.0    166998  18528.0              192.0\n",
       "4  440445   i      4475.0     10.0     53504  57240.0              283.0"
      ]
     },
     "execution_count": 25,
     "metadata": {},
     "output_type": "execute_result"
    }
   ],
   "source": [
    "df_test.join(pd.Series(experimental_predictions.round(), name='Upvote Prediction')).head()"
   ]
  },
  {
   "cell_type": "markdown",
   "metadata": {
    "pycharm": {
     "name": "#%% md\n"
    }
   },
   "source": [
    "## Stratified K-Fold Cross-Validation\n",
    "\n",
    "Next, we'll perform stratified k-fold cross validation to examine the accuracy of a random forest model in this instance."
   ]
  },
  {
   "cell_type": "code",
   "execution_count": 27,
   "metadata": {
    "pycharm": {
     "name": "#%%\n"
    }
   },
   "outputs": [
    {
     "name": "stdout",
     "output_type": "stream",
     "text": [
      "Max Accuracy: 0.9548242366385838\n",
      "Min Accuracy: 0.792918876862684\n",
      "Avg Accuracy: 0.8764118472701738\n"
     ]
    }
   ],
   "source": [
    "kfold = StratifiedKFold(n_splits=10, shuffle=True, random_state=42)\n",
    "model = RandomForestRegressor()\n",
    "scores = []\n",
    "\n",
    "for train_index, test_index in kfold.split(data_prepared, df_train.Upvotes):\n",
    "    x_train_fold, x_test_fold = data_prepared[train_index], data_prepared[test_index]\n",
    "    y_train_fold, y_test_fold = df_train.Upvotes[train_index], df_train.Upvotes[test_index]\n",
    "    model.fit(x_train_fold, y_train_fold)\n",
    "    scores.append(model.score(x_test_fold, y_test_fold))\n",
    "\n",
    "print('Max Accuracy:', max(scores))\n",
    "print('Min Accuracy:', min(scores))\n",
    "print('Avg Accuracy:', mean(scores))\n"
   ]
  },
  {
   "cell_type": "markdown",
   "metadata": {
    "pycharm": {
     "name": "#%% md\n"
    }
   },
   "source": [
    "From the cross validation scores, we can feel fairly confidently that our model will be around 90% accurate."
   ]
  }
 ],
 "metadata": {
  "kernelspec": {
   "display_name": "Python 3 (ipykernel)",
   "language": "python",
   "name": "python3"
  },
  "language_info": {
   "codemirror_mode": {
    "name": "ipython",
    "version": 3
   },
   "file_extension": ".py",
   "mimetype": "text/x-python",
   "name": "python",
   "nbconvert_exporter": "python",
   "pygments_lexer": "ipython3",
   "version": "3.9.12"
  }
 },
 "nbformat": 4,
 "nbformat_minor": 1
}